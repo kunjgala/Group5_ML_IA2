{
 "cells": [
  {
   "cell_type": "code",
   "execution_count": 1,
   "metadata": {
    "_cell_guid": "3fb90d46-4cf7-edf1-f149-6fdd49ecabb2",
    "execution": {
     "iopub.execute_input": "2021-11-12T07:10:08.343365Z",
     "iopub.status.busy": "2021-11-12T07:10:08.343011Z",
     "iopub.status.idle": "2021-11-12T07:10:08.369022Z",
     "shell.execute_reply": "2021-11-12T07:10:08.368352Z",
     "shell.execute_reply.started": "2021-11-12T07:10:08.343279Z"
    }
   },
   "outputs": [],
   "source": [
    "# Before we begin, we supress deprecation warnings resulting from nltk\n",
    "import warnings\n",
    "warnings.filterwarnings(\"ignore\", category=DeprecationWarning) "
   ]
  },
  {
   "cell_type": "markdown",
   "metadata": {},
   "source": []
  },
  {
   "cell_type": "markdown",
   "metadata": {
    "_cell_guid": "2595fd17-1db0-1448-d3c9-4bfd1bc33644"
   },
   "source": [
    "# Linear SVM classification of sentiment in tweets about airlines\n",
    "\n",
    "Our primary goal is to classify tweets using sentiment analysis. Here, we are using Support Vector Machine (SVM) algorithm."
   ]
  },
  {
   "cell_type": "markdown",
   "metadata": {
    "_cell_guid": "1302dbd6-79d2-0a40-ddeb-7231a2f8e3e8"
   },
   "source": [
    "## Performing EDA on the dataset\n",
    "\n",
    "  [1]: http://pandas.pydata.org/"
   ]
  },
  {
   "cell_type": "code",
   "execution_count": 2,
   "metadata": {
    "_cell_guid": "f5f1a8d6-2465-1f81-50ca-173e7d15d79c",
    "execution": {
     "iopub.execute_input": "2021-11-12T07:10:08.371291Z",
     "iopub.status.busy": "2021-11-12T07:10:08.370813Z",
     "iopub.status.idle": "2021-11-12T07:10:08.518937Z",
     "shell.execute_reply": "2021-11-12T07:10:08.518133Z",
     "shell.execute_reply.started": "2021-11-12T07:10:08.371251Z"
    }
   },
   "outputs": [
    {
     "data": {
      "text/plain": [
       "['tweet_id',\n",
       " 'airline_sentiment',\n",
       " 'airline_sentiment_confidence',\n",
       " 'negativereason',\n",
       " 'negativereason_confidence',\n",
       " 'airline',\n",
       " 'airline_sentiment_gold',\n",
       " 'name',\n",
       " 'negativereason_gold',\n",
       " 'retweet_count',\n",
       " 'text',\n",
       " 'tweet_coord',\n",
       " 'tweet_created',\n",
       " 'tweet_location',\n",
       " 'user_timezone']"
      ]
     },
     "execution_count": 2,
     "metadata": {},
     "output_type": "execute_result"
    }
   ],
   "source": [
    "import pandas as pd\n",
    "tweets = pd.read_csv(\"Tweets.csv\")\n",
    "list(tweets.columns.values)"
   ]
  },
  {
   "cell_type": "markdown",
   "metadata": {
    "_cell_guid": "39182328-e7fa-1a61-723b-3cbf2517751c"
   },
   "source": [
    "We'll limit the analysis to the information provided in the tweet in the form text only. Hence, the \"text\" column of of primary focus. \n",
    "\n",
    "Analyzing the corpus using head()."
   ]
  },
  {
   "cell_type": "code",
   "execution_count": 3,
   "metadata": {
    "_cell_guid": "56171d3a-313c-a946-fb1e-8c86cc3d1966",
    "execution": {
     "iopub.execute_input": "2021-11-12T07:10:08.521157Z",
     "iopub.status.busy": "2021-11-12T07:10:08.520314Z",
     "iopub.status.idle": "2021-11-12T07:10:08.546591Z",
     "shell.execute_reply": "2021-11-12T07:10:08.545782Z",
     "shell.execute_reply.started": "2021-11-12T07:10:08.521113Z"
    }
   },
   "outputs": [
    {
     "data": {
      "text/html": [
       "<div>\n",
       "<style scoped>\n",
       "    .dataframe tbody tr th:only-of-type {\n",
       "        vertical-align: middle;\n",
       "    }\n",
       "\n",
       "    .dataframe tbody tr th {\n",
       "        vertical-align: top;\n",
       "    }\n",
       "\n",
       "    .dataframe thead th {\n",
       "        text-align: right;\n",
       "    }\n",
       "</style>\n",
       "<table border=\"1\" class=\"dataframe\">\n",
       "  <thead>\n",
       "    <tr style=\"text-align: right;\">\n",
       "      <th></th>\n",
       "      <th>tweet_id</th>\n",
       "      <th>airline_sentiment</th>\n",
       "      <th>airline_sentiment_confidence</th>\n",
       "      <th>negativereason</th>\n",
       "      <th>negativereason_confidence</th>\n",
       "      <th>airline</th>\n",
       "      <th>airline_sentiment_gold</th>\n",
       "      <th>name</th>\n",
       "      <th>negativereason_gold</th>\n",
       "      <th>retweet_count</th>\n",
       "      <th>text</th>\n",
       "      <th>tweet_coord</th>\n",
       "      <th>tweet_created</th>\n",
       "      <th>tweet_location</th>\n",
       "      <th>user_timezone</th>\n",
       "    </tr>\n",
       "  </thead>\n",
       "  <tbody>\n",
       "    <tr>\n",
       "      <td>0</td>\n",
       "      <td>570306133677760513</td>\n",
       "      <td>neutral</td>\n",
       "      <td>1.0000</td>\n",
       "      <td>NaN</td>\n",
       "      <td>NaN</td>\n",
       "      <td>Virgin America</td>\n",
       "      <td>NaN</td>\n",
       "      <td>cairdin</td>\n",
       "      <td>NaN</td>\n",
       "      <td>0</td>\n",
       "      <td>@VirginAmerica What @dhepburn said.</td>\n",
       "      <td>NaN</td>\n",
       "      <td>2015-02-24 11:35:52 -0800</td>\n",
       "      <td>NaN</td>\n",
       "      <td>Eastern Time (US &amp; Canada)</td>\n",
       "    </tr>\n",
       "    <tr>\n",
       "      <td>1</td>\n",
       "      <td>570301130888122368</td>\n",
       "      <td>positive</td>\n",
       "      <td>0.3486</td>\n",
       "      <td>NaN</td>\n",
       "      <td>0.0000</td>\n",
       "      <td>Virgin America</td>\n",
       "      <td>NaN</td>\n",
       "      <td>jnardino</td>\n",
       "      <td>NaN</td>\n",
       "      <td>0</td>\n",
       "      <td>@VirginAmerica plus you've added commercials t...</td>\n",
       "      <td>NaN</td>\n",
       "      <td>2015-02-24 11:15:59 -0800</td>\n",
       "      <td>NaN</td>\n",
       "      <td>Pacific Time (US &amp; Canada)</td>\n",
       "    </tr>\n",
       "    <tr>\n",
       "      <td>2</td>\n",
       "      <td>570301083672813571</td>\n",
       "      <td>neutral</td>\n",
       "      <td>0.6837</td>\n",
       "      <td>NaN</td>\n",
       "      <td>NaN</td>\n",
       "      <td>Virgin America</td>\n",
       "      <td>NaN</td>\n",
       "      <td>yvonnalynn</td>\n",
       "      <td>NaN</td>\n",
       "      <td>0</td>\n",
       "      <td>@VirginAmerica I didn't today... Must mean I n...</td>\n",
       "      <td>NaN</td>\n",
       "      <td>2015-02-24 11:15:48 -0800</td>\n",
       "      <td>Lets Play</td>\n",
       "      <td>Central Time (US &amp; Canada)</td>\n",
       "    </tr>\n",
       "    <tr>\n",
       "      <td>3</td>\n",
       "      <td>570301031407624196</td>\n",
       "      <td>negative</td>\n",
       "      <td>1.0000</td>\n",
       "      <td>Bad Flight</td>\n",
       "      <td>0.7033</td>\n",
       "      <td>Virgin America</td>\n",
       "      <td>NaN</td>\n",
       "      <td>jnardino</td>\n",
       "      <td>NaN</td>\n",
       "      <td>0</td>\n",
       "      <td>@VirginAmerica it's really aggressive to blast...</td>\n",
       "      <td>NaN</td>\n",
       "      <td>2015-02-24 11:15:36 -0800</td>\n",
       "      <td>NaN</td>\n",
       "      <td>Pacific Time (US &amp; Canada)</td>\n",
       "    </tr>\n",
       "    <tr>\n",
       "      <td>4</td>\n",
       "      <td>570300817074462722</td>\n",
       "      <td>negative</td>\n",
       "      <td>1.0000</td>\n",
       "      <td>Can't Tell</td>\n",
       "      <td>1.0000</td>\n",
       "      <td>Virgin America</td>\n",
       "      <td>NaN</td>\n",
       "      <td>jnardino</td>\n",
       "      <td>NaN</td>\n",
       "      <td>0</td>\n",
       "      <td>@VirginAmerica and it's a really big bad thing...</td>\n",
       "      <td>NaN</td>\n",
       "      <td>2015-02-24 11:14:45 -0800</td>\n",
       "      <td>NaN</td>\n",
       "      <td>Pacific Time (US &amp; Canada)</td>\n",
       "    </tr>\n",
       "  </tbody>\n",
       "</table>\n",
       "</div>"
      ],
      "text/plain": [
       "             tweet_id airline_sentiment  airline_sentiment_confidence  \\\n",
       "0  570306133677760513           neutral                        1.0000   \n",
       "1  570301130888122368          positive                        0.3486   \n",
       "2  570301083672813571           neutral                        0.6837   \n",
       "3  570301031407624196          negative                        1.0000   \n",
       "4  570300817074462722          negative                        1.0000   \n",
       "\n",
       "  negativereason  negativereason_confidence         airline  \\\n",
       "0            NaN                        NaN  Virgin America   \n",
       "1            NaN                     0.0000  Virgin America   \n",
       "2            NaN                        NaN  Virgin America   \n",
       "3     Bad Flight                     0.7033  Virgin America   \n",
       "4     Can't Tell                     1.0000  Virgin America   \n",
       "\n",
       "  airline_sentiment_gold        name negativereason_gold  retweet_count  \\\n",
       "0                    NaN     cairdin                 NaN              0   \n",
       "1                    NaN    jnardino                 NaN              0   \n",
       "2                    NaN  yvonnalynn                 NaN              0   \n",
       "3                    NaN    jnardino                 NaN              0   \n",
       "4                    NaN    jnardino                 NaN              0   \n",
       "\n",
       "                                                text tweet_coord  \\\n",
       "0                @VirginAmerica What @dhepburn said.         NaN   \n",
       "1  @VirginAmerica plus you've added commercials t...         NaN   \n",
       "2  @VirginAmerica I didn't today... Must mean I n...         NaN   \n",
       "3  @VirginAmerica it's really aggressive to blast...         NaN   \n",
       "4  @VirginAmerica and it's a really big bad thing...         NaN   \n",
       "\n",
       "               tweet_created tweet_location               user_timezone  \n",
       "0  2015-02-24 11:35:52 -0800            NaN  Eastern Time (US & Canada)  \n",
       "1  2015-02-24 11:15:59 -0800            NaN  Pacific Time (US & Canada)  \n",
       "2  2015-02-24 11:15:48 -0800      Lets Play  Central Time (US & Canada)  \n",
       "3  2015-02-24 11:15:36 -0800            NaN  Pacific Time (US & Canada)  \n",
       "4  2015-02-24 11:14:45 -0800            NaN  Pacific Time (US & Canada)  "
      ]
     },
     "execution_count": 3,
     "metadata": {},
     "output_type": "execute_result"
    }
   ],
   "source": [
    "tweets.head()"
   ]
  },
  {
   "cell_type": "markdown",
   "metadata": {
    "_cell_guid": "cb5ee880-d138-4e49-7f09-e902a5318785"
   },
   "source": [
    "Here, we aim to check the sentiments found."
   ]
  },
  {
   "cell_type": "code",
   "execution_count": 4,
   "metadata": {
    "_cell_guid": "fbdaecb5-81f1-50c3-4ec7-a34a8262a5cf",
    "execution": {
     "iopub.execute_input": "2021-11-12T07:10:08.548624Z",
     "iopub.status.busy": "2021-11-12T07:10:08.548163Z",
     "iopub.status.idle": "2021-11-12T07:10:08.563242Z",
     "shell.execute_reply": "2021-11-12T07:10:08.562236Z",
     "shell.execute_reply.started": "2021-11-12T07:10:08.548580Z"
    }
   },
   "outputs": [
    {
     "name": "stdout",
     "output_type": "stream",
     "text": [
      "negative    9178\n",
      "neutral     3099\n",
      "positive    2363\n",
      "Name: airline_sentiment, dtype: int64\n"
     ]
    }
   ],
   "source": [
    "sentiment_counts = tweets.airline_sentiment.value_counts()\n",
    "number_of_tweets = tweets.tweet_id.count()\n",
    "print(sentiment_counts)"
   ]
  },
  {
   "cell_type": "markdown",
   "metadata": {
    "_cell_guid": "92085794-bb90-cc78-1e96-f9e7f3f11f84"
   },
   "source": [
    "On observation we realized that our dataset is significantly biased towards negative tweets. To solve this problem, we will identify the negative tweets and hereafter, treat neutral and positive as one class. Even though not recommended but if we predict a tweet to be negative, we'd still be right 62.7% of times.\n",
    "\n",
    "The above isn't recommended as it would be a heavily biased classifier but definitely a strength to appreaciate."
   ]
  },
  {
   "cell_type": "markdown",
   "metadata": {
    "_cell_guid": "e4530f8b-ce34-a6c5-21e1-85db7e173211"
   },
   "source": [
    "# Characteristics of different types of sentiments:\n",
    "\n",
    "To decide an optimum classification method, understanding the corpus is fundamental.\n",
    "\n",
    "Here, we will use Python's NLTK library to tokenize and lemmatize text. We shall also convert all upper case to lower case characters. For sentiment analysis, context matters more than just words. Thus, we'll use bi-grams over individual tokens.\n",
    "\n",
    "To simply perform the operations later, we'll store the processed data in the same python dataframe, i.e., \"tweets\" by extending the pandas dataframe.\n",
    "\n",
    "### Preprocessing\n",
    "Note that we remove the first two tokens as they always contain \"@ airline_name\". We begin by defining our normalization function.\n",
    "\n",
    "\n",
    "  [1]: http://www.nltk.org/"
   ]
  },
  {
   "cell_type": "code",
   "execution_count": 5,
   "metadata": {
    "_cell_guid": "03b28e2b-38d0-b478-856d-25ac7f052dff",
    "execution": {
     "iopub.execute_input": "2021-11-12T07:10:08.566776Z",
     "iopub.status.busy": "2021-11-12T07:10:08.566475Z",
     "iopub.status.idle": "2021-11-12T07:10:10.090332Z",
     "shell.execute_reply": "2021-11-12T07:10:10.089494Z",
     "shell.execute_reply.started": "2021-11-12T07:10:08.566743Z"
    }
   },
   "outputs": [],
   "source": [
    "import re, nltk\n",
    "from nltk.stem import WordNetLemmatizer\n",
    "from nltk.corpus import stopwords\n",
    "stop_words = set(stopwords.words('english'))\n",
    "wordnet_lemmatizer = WordNetLemmatizer()\n",
    "\n",
    "def normalizer(tweet):\n",
    "    only_letters = re.sub(\"[^a-zA-Z]\", \" \",tweet) \n",
    "    tokens = nltk.word_tokenize(only_letters)[2:]\n",
    "    lower_case = [l.lower() for l in tokens]\n",
    "    filtered_result = list(filter(lambda l: l not in stop_words, lower_case))\n",
    "    lemmas = [wordnet_lemmatizer.lemmatize(t) for t in filtered_result]\n",
    "    return lemmas"
   ]
  },
  {
   "cell_type": "code",
   "execution_count": 6,
   "metadata": {
    "_cell_guid": "e14cfc54-490d-ce20-4031-cd385a6999d0",
    "execution": {
     "iopub.execute_input": "2021-11-12T07:10:10.092168Z",
     "iopub.status.busy": "2021-11-12T07:10:10.091862Z",
     "iopub.status.idle": "2021-11-12T07:10:12.251350Z",
     "shell.execute_reply": "2021-11-12T07:10:12.250354Z",
     "shell.execute_reply.started": "2021-11-12T07:10:10.092126Z"
    }
   },
   "outputs": [
    {
     "data": {
      "text/plain": [
       "['text', 'airline', 'like']"
      ]
     },
     "execution_count": 6,
     "metadata": {},
     "output_type": "execute_result"
    }
   ],
   "source": [
    "normalizer(\"Here is text about an airline I like.\")"
   ]
  },
  {
   "cell_type": "code",
   "execution_count": 7,
   "metadata": {
    "_cell_guid": "33e1be47-7c09-948b-101d-380ccaeb4196",
    "execution": {
     "iopub.execute_input": "2021-11-12T07:10:12.253463Z",
     "iopub.status.busy": "2021-11-12T07:10:12.253157Z",
     "iopub.status.idle": "2021-11-12T07:10:16.781732Z",
     "shell.execute_reply": "2021-11-12T07:10:16.780845Z",
     "shell.execute_reply.started": "2021-11-12T07:10:12.253423Z"
    }
   },
   "outputs": [
    {
     "data": {
      "text/html": [
       "<div>\n",
       "<style scoped>\n",
       "    .dataframe tbody tr th:only-of-type {\n",
       "        vertical-align: middle;\n",
       "    }\n",
       "\n",
       "    .dataframe tbody tr th {\n",
       "        vertical-align: top;\n",
       "    }\n",
       "\n",
       "    .dataframe thead th {\n",
       "        text-align: right;\n",
       "    }\n",
       "</style>\n",
       "<table border=\"1\" class=\"dataframe\">\n",
       "  <thead>\n",
       "    <tr style=\"text-align: right;\">\n",
       "      <th></th>\n",
       "      <th>text</th>\n",
       "      <th>normalized_tweet</th>\n",
       "    </tr>\n",
       "  </thead>\n",
       "  <tbody>\n",
       "    <tr>\n",
       "      <td>0</td>\n",
       "      <td>@VirginAmerica What @dhepburn said.</td>\n",
       "      <td>[dhepburn, said]</td>\n",
       "    </tr>\n",
       "    <tr>\n",
       "      <td>1</td>\n",
       "      <td>@VirginAmerica plus you've added commercials to the experience... tacky.</td>\n",
       "      <td>[added, commercial, experience, tacky]</td>\n",
       "    </tr>\n",
       "    <tr>\n",
       "      <td>2</td>\n",
       "      <td>@VirginAmerica I didn't today... Must mean I need to take another trip!</td>\n",
       "      <td>[today, must, mean, need, take, another, trip]</td>\n",
       "    </tr>\n",
       "    <tr>\n",
       "      <td>3</td>\n",
       "      <td>@VirginAmerica it's really aggressive to blast obnoxious \"entertainment\" in your guests' faces &amp;amp; they have little recourse</td>\n",
       "      <td>[really, aggressive, blast, obnoxious, entertainment, guest, face, amp, little, recourse]</td>\n",
       "    </tr>\n",
       "    <tr>\n",
       "      <td>4</td>\n",
       "      <td>@VirginAmerica and it's a really big bad thing about it</td>\n",
       "      <td>[really, big, bad, thing]</td>\n",
       "    </tr>\n",
       "  </tbody>\n",
       "</table>\n",
       "</div>"
      ],
      "text/plain": [
       "                                                                                                                             text  \\\n",
       "0  @VirginAmerica What @dhepburn said.                                                                                              \n",
       "1  @VirginAmerica plus you've added commercials to the experience... tacky.                                                         \n",
       "2  @VirginAmerica I didn't today... Must mean I need to take another trip!                                                          \n",
       "3  @VirginAmerica it's really aggressive to blast obnoxious \"entertainment\" in your guests' faces &amp; they have little recourse   \n",
       "4  @VirginAmerica and it's a really big bad thing about it                                                                          \n",
       "\n",
       "                                                                            normalized_tweet  \n",
       "0  [dhepburn, said]                                                                           \n",
       "1  [added, commercial, experience, tacky]                                                     \n",
       "2  [today, must, mean, need, take, another, trip]                                             \n",
       "3  [really, aggressive, blast, obnoxious, entertainment, guest, face, amp, little, recourse]  \n",
       "4  [really, big, bad, thing]                                                                  "
      ]
     },
     "execution_count": 7,
     "metadata": {},
     "output_type": "execute_result"
    }
   ],
   "source": [
    "# Setting this so we can see the full content of cells\n",
    "\n",
    "pd.set_option('display.max_colwidth', -1)\n",
    "tweets['normalized_tweet'] = tweets.text.apply(normalizer)\n",
    "tweets[['text','normalized_tweet']].head()"
   ]
  },
  {
   "cell_type": "code",
   "execution_count": 8,
   "metadata": {
    "_cell_guid": "5e83d39c-c35d-dc3f-1d24-013810053bc9",
    "execution": {
     "iopub.execute_input": "2021-11-12T07:10:16.783653Z",
     "iopub.status.busy": "2021-11-12T07:10:16.783267Z",
     "iopub.status.idle": "2021-11-12T07:10:16.918182Z",
     "shell.execute_reply": "2021-11-12T07:10:16.917355Z",
     "shell.execute_reply.started": "2021-11-12T07:10:16.783608Z"
    }
   },
   "outputs": [
    {
     "data": {
      "text/html": [
       "<div>\n",
       "<style scoped>\n",
       "    .dataframe tbody tr th:only-of-type {\n",
       "        vertical-align: middle;\n",
       "    }\n",
       "\n",
       "    .dataframe tbody tr th {\n",
       "        vertical-align: top;\n",
       "    }\n",
       "\n",
       "    .dataframe thead th {\n",
       "        text-align: right;\n",
       "    }\n",
       "</style>\n",
       "<table border=\"1\" class=\"dataframe\">\n",
       "  <thead>\n",
       "    <tr style=\"text-align: right;\">\n",
       "      <th></th>\n",
       "      <th>grams</th>\n",
       "    </tr>\n",
       "  </thead>\n",
       "  <tbody>\n",
       "    <tr>\n",
       "      <td>0</td>\n",
       "      <td>[dhepburn said]</td>\n",
       "    </tr>\n",
       "    <tr>\n",
       "      <td>1</td>\n",
       "      <td>[added commercial, commercial experience, experience tacky, added commercial experience, commercial experience tacky]</td>\n",
       "    </tr>\n",
       "    <tr>\n",
       "      <td>2</td>\n",
       "      <td>[today must, must mean, mean need, need take, take another, another trip, today must mean, must mean need, mean need take, need take another, take another trip]</td>\n",
       "    </tr>\n",
       "    <tr>\n",
       "      <td>3</td>\n",
       "      <td>[really aggressive, aggressive blast, blast obnoxious, obnoxious entertainment, entertainment guest, guest face, face amp, amp little, little recourse, really aggressive blast, aggressive blast obnoxious, blast obnoxious entertainment, obnoxious entertainment guest, entertainment guest face, guest face amp, face amp little, amp little recourse]</td>\n",
       "    </tr>\n",
       "    <tr>\n",
       "      <td>4</td>\n",
       "      <td>[really big, big bad, bad thing, really big bad, big bad thing]</td>\n",
       "    </tr>\n",
       "  </tbody>\n",
       "</table>\n",
       "</div>"
      ],
      "text/plain": [
       "                                                                                                                                                                                                                                                                                                                                                        grams\n",
       "0  [dhepburn said]                                                                                                                                                                                                                                                                                                                                           \n",
       "1  [added commercial, commercial experience, experience tacky, added commercial experience, commercial experience tacky]                                                                                                                                                                                                                                     \n",
       "2  [today must, must mean, mean need, need take, take another, another trip, today must mean, must mean need, mean need take, need take another, take another trip]                                                                                                                                                                                          \n",
       "3  [really aggressive, aggressive blast, blast obnoxious, obnoxious entertainment, entertainment guest, guest face, face amp, amp little, little recourse, really aggressive blast, aggressive blast obnoxious, blast obnoxious entertainment, obnoxious entertainment guest, entertainment guest face, guest face amp, face amp little, amp little recourse]\n",
       "4  [really big, big bad, bad thing, really big bad, big bad thing]                                                                                                                                                                                                                                                                                           "
      ]
     },
     "execution_count": 8,
     "metadata": {},
     "output_type": "execute_result"
    }
   ],
   "source": [
    "from nltk import ngrams\n",
    "def ngrams(input_list):\n",
    "    #onegrams = input_list\n",
    "    bigrams = [' '.join(t) for t in list(zip(input_list, input_list[1:]))]\n",
    "    trigrams = [' '.join(t) for t in list(zip(input_list, input_list[1:], input_list[2:]))]\n",
    "    return bigrams+trigrams\n",
    "tweets['grams'] = tweets.normalized_tweet.apply(ngrams)\n",
    "tweets[['grams']].head()"
   ]
  },
  {
   "cell_type": "markdown",
   "metadata": {
    "_cell_guid": "c0b51587-a300-8f90-cd30-f44791540f96"
   },
   "source": [
    "And now some counting."
   ]
  },
  {
   "cell_type": "code",
   "execution_count": 9,
   "metadata": {
    "_cell_guid": "3a4c4888-2be9-54d6-9b5b-9b8b336cdfa8",
    "execution": {
     "iopub.execute_input": "2021-11-12T07:10:16.919691Z",
     "iopub.status.busy": "2021-11-12T07:10:16.919443Z",
     "iopub.status.idle": "2021-11-12T07:10:16.924439Z",
     "shell.execute_reply": "2021-11-12T07:10:16.923611Z",
     "shell.execute_reply.started": "2021-11-12T07:10:16.919653Z"
    }
   },
   "outputs": [],
   "source": [
    "import collections\n",
    "def count_words(input):\n",
    "    cnt = collections.Counter()\n",
    "    for row in input:\n",
    "        for word in row:\n",
    "            cnt[word] += 1\n",
    "    return cnt"
   ]
  },
  {
   "cell_type": "code",
   "execution_count": 10,
   "metadata": {
    "_cell_guid": "c0395d2b-61cb-213e-6c38-e476770a9028",
    "execution": {
     "iopub.execute_input": "2021-11-12T07:10:16.926143Z",
     "iopub.status.busy": "2021-11-12T07:10:16.925659Z",
     "iopub.status.idle": "2021-11-12T07:10:17.063028Z",
     "shell.execute_reply": "2021-11-12T07:10:17.062150Z",
     "shell.execute_reply.started": "2021-11-12T07:10:16.926103Z"
    }
   },
   "outputs": [
    {
     "data": {
      "text/plain": [
       "[('http co', 449),\n",
       " ('customer service', 438),\n",
       " ('cancelled flightled', 425),\n",
       " ('late flight', 215),\n",
       " ('cancelled flighted', 196),\n",
       " ('flight cancelled', 185),\n",
       " ('late flightr', 144),\n",
       " ('cancelled flight', 131),\n",
       " ('hold hour', 128),\n",
       " ('flightled flight', 123),\n",
       " ('flight cancelled flightled', 117),\n",
       " ('flight delayed', 115),\n",
       " ('cancelled flightled flight', 107),\n",
       " ('call back', 106),\n",
       " ('booking problem', 98),\n",
       " ('gate agent', 83),\n",
       " ('flight flight', 74),\n",
       " ('hour late', 69),\n",
       " ('delayed flight', 69),\n",
       " ('flight attendant', 60)]"
      ]
     },
     "execution_count": 10,
     "metadata": {},
     "output_type": "execute_result"
    }
   ],
   "source": [
    "tweets[(tweets.airline_sentiment == 'negative')][['grams']].apply(count_words)['grams'].most_common(20)"
   ]
  },
  {
   "cell_type": "markdown",
   "metadata": {
    "_cell_guid": "cdca1e1c-eb02-239f-eb98-dc16e32dbcde"
   },
   "source": [
    "We can already tell there's a pattern here. Sentences like \"cancelled flight\", \"late flight\", \"booking problems\",  \"delayed flight\" stand out clearly. Lets check the positive tweets."
   ]
  },
  {
   "cell_type": "code",
   "execution_count": 11,
   "metadata": {
    "_cell_guid": "aa00dfb3-81e0-980b-cfd2-e56454a612c4",
    "execution": {
     "iopub.execute_input": "2021-11-12T07:10:17.064884Z",
     "iopub.status.busy": "2021-11-12T07:10:17.064410Z",
     "iopub.status.idle": "2021-11-12T07:10:17.099352Z",
     "shell.execute_reply": "2021-11-12T07:10:17.098528Z",
     "shell.execute_reply.started": "2021-11-12T07:10:17.064855Z"
    }
   },
   "outputs": [
    {
     "data": {
      "text/plain": [
       "[('http co', 233),\n",
       " ('customer service', 91),\n",
       " ('flight attendant', 25),\n",
       " ('quick response', 19),\n",
       " ('great flight', 17),\n",
       " ('best airline', 16),\n",
       " ('great job', 16),\n",
       " ('great service', 16),\n",
       " ('gate agent', 16),\n",
       " ('booking problem', 15),\n",
       " ('thanks help', 15),\n",
       " ('thank much', 15),\n",
       " ('good work', 14),\n",
       " ('fleet fleek', 14),\n",
       " ('fleek http', 14),\n",
       " ('fleet fleek http', 14),\n",
       " ('fleek http co', 14),\n",
       " ('guy rock', 13),\n",
       " ('looking forward', 13),\n",
       " ('great customer', 12)]"
      ]
     },
     "execution_count": 11,
     "metadata": {},
     "output_type": "execute_result"
    }
   ],
   "source": [
    "tweets[(tweets.airline_sentiment == 'positive')][['grams']].apply(count_words)['grams'].most_common(20)"
   ]
  },
  {
   "cell_type": "markdown",
   "metadata": {
    "_cell_guid": "e11015ce-3f91-7708-36ab-1ccad7143cfb"
   },
   "source": [
    "We have some good looking patterns here. However, we can conclude that 3-grams clear patterns are rare. \"great customer service\" occurs 12 times in 2362 positive responses, which really doesn't say much in general. \n",
    "\n",
    "Satisfied that our data looks possible to work with begin to construct our first classifier.\n",
    "\n",
    "# Linear SVM classifier\n",
    "We will build a simple, linear Support-Vector-Machine (SVM) classifier. The classifier will take into account each unique word present in the sentence, as well as all consecutive words. To make this representation useful for our SVM classifier we transform each sentence into a vector. The vector is of the same length as our vocabulary, i.e. the list of all words observed in our training data, with each word representing an entry in the vector. If a particular word is present, that entry in the vector is 1, otherwise 0.\n",
    "\n",
    "To create these vectors we use the CountVectorizer from [sklearn][1]. \n",
    "\n",
    "\n",
    "  [1]: http://scikit-learn.org/stable/tutorial/text_analytics/working_with_text_data.html"
   ]
  },
  {
   "cell_type": "markdown",
   "metadata": {
    "_cell_guid": "13b5d690-eb25-6243-7a40-c06cfa3bf825"
   },
   "source": [
    "## Preparing the data"
   ]
  },
  {
   "cell_type": "code",
   "execution_count": 12,
   "metadata": {
    "_cell_guid": "f16bfa38-fb30-aff1-d53a-54d23b6a4322",
    "execution": {
     "iopub.execute_input": "2021-11-12T07:10:17.100786Z",
     "iopub.status.busy": "2021-11-12T07:10:17.100553Z",
     "iopub.status.idle": "2021-11-12T07:10:17.107000Z",
     "shell.execute_reply": "2021-11-12T07:10:17.106273Z",
     "shell.execute_reply.started": "2021-11-12T07:10:17.100756Z"
    }
   },
   "outputs": [],
   "source": [
    "import numpy as np\n",
    "from scipy.sparse import hstack\n",
    "from sklearn.feature_extraction.text import CountVectorizer\n",
    "count_vectorizer = CountVectorizer(ngram_range=(1,2))"
   ]
  },
  {
   "cell_type": "code",
   "execution_count": 13,
   "metadata": {
    "_cell_guid": "3a964c4c-c16e-6592-e68e-3f6ef1197fdc",
    "execution": {
     "iopub.execute_input": "2021-11-12T07:10:17.109491Z",
     "iopub.status.busy": "2021-11-12T07:10:17.108522Z",
     "iopub.status.idle": "2021-11-12T07:10:18.325464Z",
     "shell.execute_reply": "2021-11-12T07:10:18.324519Z",
     "shell.execute_reply.started": "2021-11-12T07:10:17.109445Z"
    }
   },
   "outputs": [],
   "source": [
    "vectorized_data = count_vectorizer.fit_transform(tweets.text)\n",
    "indexed_data = hstack((np.array(range(0,vectorized_data.shape[0]))[:,None], vectorized_data))"
   ]
  },
  {
   "cell_type": "code",
   "execution_count": 14,
   "metadata": {
    "_cell_guid": "457bdfd2-685d-bbc1-699f-1954108dd1d5",
    "execution": {
     "iopub.execute_input": "2021-11-12T07:10:18.329652Z",
     "iopub.status.busy": "2021-11-12T07:10:18.329301Z",
     "iopub.status.idle": "2021-11-12T07:10:18.348646Z",
     "shell.execute_reply": "2021-11-12T07:10:18.347831Z",
     "shell.execute_reply.started": "2021-11-12T07:10:18.329597Z"
    }
   },
   "outputs": [],
   "source": [
    "def sentiment2target(sentiment):\n",
    "    return {\n",
    "        'negative': 0,\n",
    "        'neutral': 1,\n",
    "        'positive' : 2\n",
    "    }[sentiment]\n",
    "targets = tweets.airline_sentiment.apply(sentiment2target)"
   ]
  },
  {
   "cell_type": "markdown",
   "metadata": {
    "_cell_guid": "f215daf3-d2b9-134b-a371-98ef9bc3c4e7"
   },
   "source": [
    "To check performance of our classifier we want to split our data in to train and test."
   ]
  },
  {
   "cell_type": "code",
   "execution_count": 15,
   "metadata": {
    "_cell_guid": "c99298bd-84e9-d31e-58d1-00dbbdfa83e1",
    "execution": {
     "iopub.execute_input": "2021-11-12T07:10:18.350638Z",
     "iopub.status.busy": "2021-11-12T07:10:18.349975Z",
     "iopub.status.idle": "2021-11-12T07:10:18.397154Z",
     "shell.execute_reply": "2021-11-12T07:10:18.396316Z",
     "shell.execute_reply.started": "2021-11-12T07:10:18.350595Z"
    }
   },
   "outputs": [],
   "source": [
    "from sklearn.model_selection import train_test_split\n",
    "data_train, data_test, targets_train, targets_test = train_test_split(indexed_data, targets, test_size=0.4, random_state=0)\n",
    "data_train_index = data_train[:,0]\n",
    "data_train = data_train[:,1:]\n",
    "data_test_index = data_test[:,0]\n",
    "data_test = data_test[:,1:]"
   ]
  },
  {
   "cell_type": "markdown",
   "metadata": {},
   "source": []
  },
  {
   "cell_type": "markdown",
   "metadata": {
    "_cell_guid": "936edaf6-9b95-44f7-fc0f-80f0699b66aa"
   },
   "source": [
    "## Fitting the classifier\n",
    "\n",
    "We're now ready to fit the classifier to our data. We'll spend more time on hyper parameter tuning later, so for now we just pick some reasonable guesses. Note here that we use the OneVsRestClassifier. This allows us to get the probability distribution over all three classes. Behind the scenes we actually create three classifiers. Each of these classifiers determines the probability that the datapoint belongs to it's corresponding class, or any of the other classes. Hence the name OneVsRest."
   ]
  },
  {
   "cell_type": "code",
   "execution_count": 16,
   "metadata": {
    "_cell_guid": "ed3e70df-a983-fb02-1b47-0499bda60850",
    "execution": {
     "iopub.execute_input": "2021-11-12T07:51:08.348300Z",
     "iopub.status.busy": "2021-11-12T07:51:08.348020Z",
     "iopub.status.idle": "2021-11-12T07:54:52.260367Z",
     "shell.execute_reply": "2021-11-12T07:54:52.259520Z",
     "shell.execute_reply.started": "2021-11-12T07:51:08.348269Z"
    }
   },
   "outputs": [],
   "source": [
    "from sklearn import svm\n",
    "from sklearn.multiclass import OneVsRestClassifier\n",
    "clf = OneVsRestClassifier(svm.SVC(gamma=0.01, C=100., probability=True, class_weight='balanced', kernel='linear'))\n",
    "clf_output = clf.fit(data_train, targets_train)\n",
    "clf_prediction = clf.predict(data_test)"
   ]
  },
  {
   "cell_type": "markdown",
   "metadata": {
    "_cell_guid": "3f5a37b6-e56f-036b-e44e-9ec4814cd8d7"
   },
   "source": [
    "## Evaluation of results"
   ]
  },
  {
   "cell_type": "code",
   "execution_count": 17,
   "metadata": {
    "_cell_guid": "1af23c8b-7c12-63f5-260b-9f34d1285064",
    "execution": {
     "iopub.execute_input": "2021-11-12T08:10:57.292705Z",
     "iopub.status.busy": "2021-11-12T08:10:57.292393Z",
     "iopub.status.idle": "2021-11-12T08:11:13.259007Z",
     "shell.execute_reply": "2021-11-12T08:11:13.257321Z",
     "shell.execute_reply.started": "2021-11-12T08:10:57.292673Z"
    }
   },
   "outputs": [
    {
     "name": "stdout",
     "output_type": "stream",
     "text": [
      "Mean accuracy:  0.7851775956284153\n",
      "F1 score for neutral tweets:  0.8649013780059444\n",
      "F1 score for negative tweets:  0.6097178683385581\n",
      "F1 score for positive tweets:  0.7042093287827076\n"
     ]
    }
   ],
   "source": [
    "print(\"Mean accuracy: \", clf.score(data_test, targets_test))\n",
    "\n",
    "from sklearn.metrics import f1_score\n",
    "f1_neu = f1_score(targets_test, clf_prediction, average=None)[0]\n",
    "f1_neg = f1_score(targets_test, clf_prediction, average=None)[1]\n",
    "f1_pos = f1_score(targets_test, clf_prediction, average=None)[2]\n",
    "print(\"F1 score for neutral tweets: \",f1_neu)\n",
    "print(\"F1 score for negative tweets: \",f1_neg)\n",
    "print(\"F1 score for positive tweets: \",f1_pos)"
   ]
  },
  {
   "cell_type": "code",
   "execution_count": 33,
   "metadata": {},
   "outputs": [
    {
     "data": {
      "image/png": "[encoded data removed]",
      "text/plain": [
       "<Figure size 432x288 with 1 Axes>"
      ]
     },
     "metadata": {
      "needs_background": "light"
     },
     "output_type": "display_data"
    }
   ],
   "source": [
    "import matplotlib.pyplot as plt\n",
    "fig = plt.figure()\n",
    "ax = fig.add_axes([0,0,1,1])\n",
    "names = ['Neutral tweets','Negative Tweets', 'Positive Tweets']\n",
    "f1_scores = [f1_neu,f1_neg,f1_pos]\n",
    "ax.bar(names,f1_scores, width = 0.5)\n",
    "plt.title(\"F1 Score\")\n",
    "plt.show()"
   ]
  },
  {
   "cell_type": "code",
   "execution_count": 22,
   "metadata": {
    "execution": {
     "iopub.execute_input": "2021-11-12T08:15:07.368366Z",
     "iopub.status.busy": "2021-11-12T08:15:07.368036Z",
     "iopub.status.idle": "2021-11-12T08:15:23.603408Z",
     "shell.execute_reply": "2021-11-12T08:15:23.602676Z",
     "shell.execute_reply.started": "2021-11-12T08:15:07.368333Z"
    }
   },
   "outputs": [
    {
     "name": "stdout",
     "output_type": "stream",
     "text": [
      "Confusion Matrix: \n",
      " [[3201  376  102]\n",
      " [ 362  778  112]\n",
      " [ 160  146  619]]\n"
     ]
    }
   ],
   "source": [
    "from sklearn.metrics import confusion_matrix\n",
    "#from sklearn.metrics import plot_confusion_matrix\n",
    "\n",
    "print(\"Confusion Matrix: \\n\", confusion_matrix(targets_test, clf_prediction))\n",
    "#plot_confusion_matrix(clf, data_test, targets_test)"
   ]
  },
  {
   "cell_type": "markdown",
   "metadata": {
    "_cell_guid": "6f1e98e8-f816-5e9a-f0f9-957798dfa8c1"
   },
   "source": [
    "It's most likely possible to achieve a higher score with more tuning, or a more advanced approach. Lets check on how it does on a couple of sentences."
   ]
  },
  {
   "cell_type": "code",
   "execution_count": 23,
   "metadata": {
    "_cell_guid": "c8a2059d-c320-c958-613e-0085c791f128",
    "execution": {
     "iopub.execute_input": "2021-11-12T07:14:00.820074Z",
     "iopub.status.busy": "2021-11-12T07:14:00.819376Z",
     "iopub.status.idle": "2021-11-12T07:14:00.843911Z",
     "shell.execute_reply": "2021-11-12T07:14:00.842997Z",
     "shell.execute_reply.started": "2021-11-12T07:14:00.820023Z"
    }
   },
   "outputs": [
    {
     "data": {
      "text/plain": [
       "array([[0.21241729, 0.05759789, 0.72998482],\n",
       "       [0.14553142, 0.06972021, 0.78474837],\n",
       "       [0.94363099, 0.0392759 , 0.01709311],\n",
       "       [0.89111251, 0.07204803, 0.03683947],\n",
       "       [0.97409499, 0.0168776 , 0.00902741],\n",
       "       [0.46882642, 0.50065528, 0.03051829],\n",
       "       [0.26938323, 0.51920947, 0.2114073 ]])"
      ]
     },
     "execution_count": 23,
     "metadata": {},
     "output_type": "execute_result"
    }
   ],
   "source": [
    "sentences = count_vectorizer.transform([\n",
    "    \"What a great airline, the trip was a pleasure!\",\n",
    "    \"My issue was quickly resolved after calling customer support. Thanks!\",\n",
    "    \"What the hell! My flight was cancelled again. This sucks!\",\n",
    "    \"Service was awful. I'll never fly with you again.\",\n",
    "    \"You fuckers lost my luggage. Never again!\",\n",
    "    \"I have mixed feelings about airlines. I don't know what I think.\",\n",
    "    \"\"\n",
    "])\n",
    "clf.predict_proba(sentences)"
   ]
  },
  {
   "cell_type": "markdown",
   "metadata": {
    "_cell_guid": "74935e17-0463-78c9-c8be-e2ba71fdfe21"
   },
   "source": [
    "So while results aren't very impressive overall, we can see that it's doing a good job on these obvious sentences. \n",
    "\n",
    "## What is hard for the classifier?\n",
    "\n",
    "It's interesting to know which sentences are hard. To find out, lets apply the classifier to all our test sentences and sort by the marginal probability."
   ]
  },
  {
   "cell_type": "markdown",
   "metadata": {
    "_cell_guid": "179f152a-dd8b-13ac-3b3a-649b16f0bcf2"
   },
   "source": [
    "Here are some of the hardest sentences."
   ]
  },
  {
   "cell_type": "code",
   "execution_count": 24,
   "metadata": {
    "_cell_guid": "c94ef2e0-bd5d-bfb9-16ac-90459b0d29e0",
    "execution": {
     "iopub.execute_input": "2021-11-12T07:14:00.845518Z",
     "iopub.status.busy": "2021-11-12T07:14:00.845289Z",
     "iopub.status.idle": "2021-11-12T07:14:17.000843Z",
     "shell.execute_reply": "2021-11-12T07:14:17.000026Z",
     "shell.execute_reply.started": "2021-11-12T07:14:00.845489Z"
    }
   },
   "outputs": [],
   "source": [
    "predictions_on_test_data = clf.predict_proba(data_test)\n",
    "index = np.transpose(np.array([range(0,len(predictions_on_test_data))]))\n",
    "indexed_predictions = np.concatenate((predictions_on_test_data, index), axis=1).tolist()"
   ]
  },
  {
   "cell_type": "code",
   "execution_count": 25,
   "metadata": {
    "_cell_guid": "a1346d01-0e5d-8f01-b364-1523c8665203",
    "execution": {
     "iopub.execute_input": "2021-11-12T07:14:17.002616Z",
     "iopub.status.busy": "2021-11-12T07:14:17.002143Z",
     "iopub.status.idle": "2021-11-12T07:14:17.071262Z",
     "shell.execute_reply": "2021-11-12T07:14:17.070364Z",
     "shell.execute_reply.started": "2021-11-12T07:14:17.002570Z"
    }
   },
   "outputs": [
    {
     "data": {
      "text/plain": [
       "['@JetBlue - Definitely no note from whoever stole from me.',\n",
       " '@USAirways thanks. We did see an agent. Unhelpful. Some got vouchers others did not for unexplained reasons.',\n",
       " '@AmericanAir anything you can do?',\n",
       " '@AmericanAir Trying desperately to get my boyfriend booked on the same US Airways flight as myself for the same price. Can you help?',\n",
       " '@AmericanAir Trying desperately to get my boyfriend booked on the same US Airways flight as myself for the same price. Can you help?',\n",
       " \"@JetBlue Crisis averted! Flight #69 from BOS to FLL is boarding. Let's hope the new pilots aren't Clarence Oveur and Roger Murdock. :-)\",\n",
       " '@united that would help! or how about integrate it into the App so I can just \"activate\" it and surf...',\n",
       " '@SouthwestAir briughy me to @ComClassic, #AIF2015 &amp; so much more with the #agcommunity',\n",
       " '@AmericanAir I picked the nonstop flight bc I had things to get to. Should’ve taken diff route or airline I suppose!',\n",
       " '@SouthwestAir could care more about their customer, if there is a reasonable request :(']"
      ]
     },
     "execution_count": 25,
     "metadata": {},
     "output_type": "execute_result"
    }
   ],
   "source": [
    "def marginal(p):\n",
    "    top2 = p.argsort()[::-1]\n",
    "    return abs(p[top2[0]]-p[top2[1]])\n",
    "margin = sorted(list(map(lambda p : [marginal(np.array(p[0:3])),p[3]], indexed_predictions)), key=lambda p : p[0])\n",
    "list(map(lambda p : tweets.iloc[data_test_index[int(p[1])].toarray()[0][0]].text, margin[0:10]))"
   ]
  },
  {
   "cell_type": "markdown",
   "metadata": {
    "_cell_guid": "9d28561f-5767-29f8-a49c-85e191b63c4b"
   },
   "source": [
    "and their probability distributions?"
   ]
  },
  {
   "cell_type": "code",
   "execution_count": 26,
   "metadata": {
    "_cell_guid": "fa092618-003a-c2e5-1228-a95aa18337ef",
    "execution": {
     "iopub.execute_input": "2021-11-12T07:14:17.073166Z",
     "iopub.status.busy": "2021-11-12T07:14:17.072490Z",
     "iopub.status.idle": "2021-11-12T07:14:17.080600Z",
     "shell.execute_reply": "2021-11-12T07:14:17.080022Z",
     "shell.execute_reply.started": "2021-11-12T07:14:17.073128Z"
    }
   },
   "outputs": [
    {
     "data": {
      "text/plain": [
       "[array([0.47027673, 0.05944654, 0.47027673]),\n",
       " array([0.49537912, 0.00942167, 0.49519922]),\n",
       " array([0.48065885, 0.48025239, 0.03908877]),\n",
       " array([0.49486681, 0.49532926, 0.00980393]),\n",
       " array([0.49486681, 0.49532926, 0.00980393]),\n",
       " array([0.3522473 , 0.29599282, 0.35175988]),\n",
       " array([0.48296393, 0.48363794, 0.03339813]),\n",
       " array([0.33454651, 0.33016782, 0.33528566]),\n",
       " array([0.45238014, 0.45371747, 0.09390239]),\n",
       " array([0.47700717, 0.47853604, 0.0444568 ])]"
      ]
     },
     "execution_count": 26,
     "metadata": {},
     "output_type": "execute_result"
    }
   ],
   "source": [
    "list(map(lambda p : predictions_on_test_data[int(p[1])], margin[0:10]))"
   ]
  },
  {
   "cell_type": "markdown",
   "metadata": {
    "_cell_guid": "3d8c9fdd-8e68-0fd1-3f06-bfaaeba4b79f"
   },
   "source": [
    "How about the easiest sentences?"
   ]
  },
  {
   "cell_type": "code",
   "execution_count": 27,
   "metadata": {
    "_cell_guid": "c2468ac1-b7fb-889c-50a3-e5d7af0269d5",
    "execution": {
     "iopub.execute_input": "2021-11-12T07:14:17.082459Z",
     "iopub.status.busy": "2021-11-12T07:14:17.082061Z",
     "iopub.status.idle": "2021-11-12T07:14:17.097811Z",
     "shell.execute_reply": "2021-11-12T07:14:17.097275Z",
     "shell.execute_reply.started": "2021-11-12T07:14:17.082429Z"
    }
   },
   "outputs": [
    {
     "data": {
      "text/plain": [
       "['@united here we go again. 2 of 3 segments SFO--New York RT were delayed OVER 2 hrs each! Why do you suck so BAD!?!Maybe another line of bus?',\n",
       " '@united is the worst airline. Lost my luggage delayed my flights and has been very unaccomidating',\n",
       " '@USAirways Been stuck for 40+ minutes due to lavatory issues. No beverages. No snacks. No customer service. Flt 645 to PHO... #fail #refund',\n",
       " '@AmericanAir Worst airline ever. We have been stranded for 24 hours because of your 7 hour delay with flight 104 last night.',\n",
       " \"@USAirways seriously???  did you not see that I've spent 2 days - for multiple hours on hold just to have to hang up after the hours?\",\n",
       " '@AmericanAir AA 1657 was also over an hour Late Flight to depart Ohare and now we have no luggage. Not happy standing in a long line at baggage svc',\n",
       " '@USAirways waited for 3 hours NO LUGGAGE line too long left airport when flight Cancelled Flighted WHERE does luggage GO? On hold for 1 hour so far',\n",
       " '@USAirways Customer service is dead. Last wk, flts delayed/Cancelled Flighted. Bags lost 4 days. Last nt, flt delayed/Cancelled Flighted.  No meal voucher?',\n",
       " '@united you are the worst airline in the world! From your crap website to your worthless app to your Late Flight flight. You SUCK! Just shut down.',\n",
       " \"@united after a Cancelled Flighted flight, and 2 delays, you lost my luggage AGAIN! You're the WORST! Disgraceful! Awful company, horrible service!\"]"
      ]
     },
     "execution_count": 27,
     "metadata": {},
     "output_type": "execute_result"
    }
   ],
   "source": [
    "list(map(lambda p : tweets.iloc[data_test_index[int(p[1])].toarray()[0][0]].text, margin[-10:]))"
   ]
  },
  {
   "cell_type": "markdown",
   "metadata": {
    "_cell_guid": "d2387867-ac36-8219-0d71-fb0f578d4913"
   },
   "source": [
    "and their probability distributions?"
   ]
  },
  {
   "cell_type": "code",
   "execution_count": 28,
   "metadata": {
    "_cell_guid": "80f2aff9-3273-caab-b9a4-959aebc9d69d",
    "execution": {
     "iopub.execute_input": "2021-11-12T07:14:17.099486Z",
     "iopub.status.busy": "2021-11-12T07:14:17.099003Z",
     "iopub.status.idle": "2021-11-12T07:14:17.108605Z",
     "shell.execute_reply": "2021-11-12T07:14:17.107648Z",
     "shell.execute_reply.started": "2021-11-12T07:14:17.099451Z"
    }
   },
   "outputs": [
    {
     "data": {
      "text/plain": [
       "[array([9.97340568e-01, 1.66633222e-03, 9.93099410e-04]),\n",
       " array([9.98023080e-01, 1.41472659e-03, 5.62193495e-04]),\n",
       " array([9.97914506e-01, 1.29035071e-03, 7.95143132e-04]),\n",
       " array([9.98730437e-01, 1.07962584e-03, 1.89937252e-04]),\n",
       " array([9.98808446e-01, 1.12622917e-03, 6.53244043e-05]),\n",
       " array([9.98741194e-01, 6.95198257e-04, 5.63607779e-04]),\n",
       " array([9.99027836e-01, 8.86524852e-04, 8.56391705e-05]),\n",
       " array([9.99060657e-01, 5.72924138e-04, 3.66418503e-04]),\n",
       " array([9.99200156e-01, 1.96769654e-04, 6.03074167e-04]),\n",
       " array([9.99470505e-01, 3.40640605e-04, 1.88854113e-04])]"
      ]
     },
     "execution_count": 28,
     "metadata": {},
     "output_type": "execute_result"
    }
   ],
   "source": [
    "list(map(lambda p : predictions_on_test_data[int(p[1])], margin[-10:]))"
   ]
  },
  {
   "cell_type": "markdown",
   "metadata": {
    "_cell_guid": "254f79d4-feee-706a-a2a0-a602069be3cc"
   },
   "source": [
    "Looks like all of the easiest sentences are negative. What is the distribution of certainty across all sentences?"
   ]
  },
  {
   "cell_type": "code",
   "execution_count": 29,
   "metadata": {
    "_cell_guid": "48fe3201-eb49-9617-eeb5-fca45beb657f",
    "execution": {
     "iopub.execute_input": "2021-11-12T07:14:17.110388Z",
     "iopub.status.busy": "2021-11-12T07:14:17.110057Z",
     "iopub.status.idle": "2021-11-12T07:14:17.380471Z",
     "shell.execute_reply": "2021-11-12T07:14:17.379861Z",
     "shell.execute_reply.started": "2021-11-12T07:14:17.110347Z"
    }
   },
   "outputs": [
    {
     "data": {
      "image/png": "[encoded data removed]",
      "text/plain": [
       "<Figure size 432x288 with 1 Axes>"
      ]
     },
     "metadata": {
      "needs_background": "light"
     },
     "output_type": "display_data"
    }
   ],
   "source": [
    "import matplotlib.pyplot as plt\n",
    "marginal_probs = list(map(lambda p : p[0], margin))\n",
    "n, bins, patches = plt.hist(marginal_probs, 25, facecolor='blue', alpha=0.75)\n",
    "plt.title('Marginal confidence histogram - All data')\n",
    "plt.ylabel('Count')\n",
    "plt.xlabel('Marginal confidence')\n",
    "plt.show()"
   ]
  },
  {
   "cell_type": "markdown",
   "metadata": {
    "_cell_guid": "c3e7841f-d705-d9bc-3dc9-e2117cea3b26"
   },
   "source": [
    "Lets break it down by positive and negative sentiment to see if one is harder than the other.\n",
    "\n",
    "### Positive data"
   ]
  },
  {
   "cell_type": "code",
   "execution_count": 30,
   "metadata": {
    "_cell_guid": "1709f0eb-febe-0161-f1df-ac9585ff580d",
    "execution": {
     "iopub.execute_input": "2021-11-12T07:14:17.382680Z",
     "iopub.status.busy": "2021-11-12T07:14:17.381897Z",
     "iopub.status.idle": "2021-11-12T07:14:24.244703Z",
     "shell.execute_reply": "2021-11-12T07:14:24.243236Z",
     "shell.execute_reply.started": "2021-11-12T07:14:17.382634Z"
    }
   },
   "outputs": [
    {
     "data": {
      "image/png": "[encoded data removed]",
      "text/plain": [
       "<Figure size 432x288 with 1 Axes>"
      ]
     },
     "metadata": {
      "needs_background": "light"
     },
     "output_type": "display_data"
    }
   ],
   "source": [
    "positive_test_data = list(filter(lambda row : row[0]==2, hstack((targets_test[:,None], data_test)).toarray()))\n",
    "positive_probs = clf.predict_proba(list(map(lambda r : r[1:], positive_test_data)))\n",
    "marginal_positive_probs = list(map(lambda p : marginal(p), positive_probs))\n",
    "n, bins, patches = plt.hist(marginal_positive_probs, 25, facecolor='green', alpha=0.75)\n",
    "plt.title('Marginal confidence histogram - Positive data')\n",
    "plt.ylabel('Count')\n",
    "plt.xlabel('Marginal confidence')\n",
    "plt.show()"
   ]
  },
  {
   "cell_type": "markdown",
   "metadata": {
    "_cell_guid": "98258e2a-fbd7-9e18-b43c-1f2330124e67"
   },
   "source": [
    "### Neutral data"
   ]
  },
  {
   "cell_type": "code",
   "execution_count": 31,
   "metadata": {
    "_cell_guid": "eea28df4-f4a2-0b9b-2547-173935fe551c",
    "execution": {
     "iopub.status.busy": "2021-11-12T07:14:24.393110Z",
     "iopub.status.idle": "2021-11-12T07:14:24.394125Z",
     "shell.execute_reply": "2021-11-12T07:14:24.393860Z",
     "shell.execute_reply.started": "2021-11-12T07:14:24.393832Z"
    }
   },
   "outputs": [
    {
     "data": {
      "image/png": "[encoded data removed]",
      "text/plain": [
       "<Figure size 432x288 with 1 Axes>"
      ]
     },
     "metadata": {
      "needs_background": "light"
     },
     "output_type": "display_data"
    }
   ],
   "source": [
    "positive_test_data = list(filter(lambda row : row[0]==1, hstack((targets_test[:,None], data_test)).toarray()))\n",
    "positive_probs = clf.predict_proba(list(map(lambda r : r[1:], positive_test_data)))\n",
    "marginal_positive_probs = list(map(lambda p : marginal(p), positive_probs))\n",
    "n, bins, patches = plt.hist(marginal_positive_probs, 25, facecolor='blue', alpha=0.75)\n",
    "plt.title('Marginal confidence histogram - Neutral data')\n",
    "plt.ylabel('Count')\n",
    "plt.xlabel('Marginal confidence')\n",
    "plt.show()"
   ]
  },
  {
   "cell_type": "markdown",
   "metadata": {
    "_cell_guid": "c43fb9ec-8751-f1e6-24a0-b77f18dacefd"
   },
   "source": [
    "### Negative data"
   ]
  },
  {
   "cell_type": "code",
   "execution_count": 32,
   "metadata": {
    "_cell_guid": "52fda712-b5c7-7bb2-0333-68a888547226",
    "execution": {
     "iopub.status.busy": "2021-11-12T07:14:24.395623Z",
     "iopub.status.idle": "2021-11-12T07:14:24.396377Z",
     "shell.execute_reply": "2021-11-12T07:14:24.396124Z",
     "shell.execute_reply.started": "2021-11-12T07:14:24.396079Z"
    }
   },
   "outputs": [
    {
     "data": {
      "image/png": "[encoded data removed]",
      "text/plain": [
       "<Figure size 432x288 with 1 Axes>"
      ]
     },
     "metadata": {
      "needs_background": "light"
     },
     "output_type": "display_data"
    }
   ],
   "source": [
    "negative_test_data = list(filter(lambda row : row[0]==0, hstack((targets_test[:,None], data_test)).toarray()))\n",
    "negative_probs = clf.predict_proba(list(map(lambda r : r[1:], negative_test_data)))\n",
    "marginal_negative_probs = list(map(lambda p : marginal(p), negative_probs))\n",
    "n, bins, patches = plt.hist(marginal_negative_probs, 25, facecolor='red', alpha=0.75)\n",
    "plt.title('Marginal confidence histogram - Negative data')\n",
    "plt.ylabel('Count')\n",
    "plt.xlabel('Marginal confidence')\n",
    "plt.show()"
   ]
  },
  {
   "cell_type": "markdown",
   "metadata": {
    "_cell_guid": "90217d44-58a8-782f-5b68-9ee7032aa9c7"
   },
   "source": [
    "Clearly the positive data is much harder for the classifier. This makes sense since there's a lot less of it. An important challenge in building a better classifier will then be how to handle positive data.\n",
    "\n",
    "A more advanced classifier is described here."
   ]
  }
 ],
 "metadata": {
  "kernelspec": {
   "display_name": "Python 3",
   "language": "python",
   "name": "python3"
  },
  "language_info": {
   "codemirror_mode": {
    "name": "ipython",
    "version": 3
   },
   "file_extension": ".py",
   "mimetype": "text/x-python",
   "name": "python",
   "nbconvert_exporter": "python",
   "pygments_lexer": "ipython3",
   "version": "3.7.4"
  }
 },
 "nbformat": 4,
 "nbformat_minor": 4
}
