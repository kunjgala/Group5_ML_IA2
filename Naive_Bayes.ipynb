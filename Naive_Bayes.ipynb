{
 "cells": [
  {
   "cell_type": "markdown",
   "metadata": {},
   "source": [
    "# Sentiment Analysis of Tweets using Naive Bayes Algorithm"
   ]
  },
  {
   "cell_type": "code",
   "execution_count": 6,
   "metadata": {
    "_cell_guid": "b1076dfc-b9ad-4769-8c92-a6c4dae69d19",
    "_uuid": "8f2839f25d086af736a60e9eeb907d3b93b6e0e5",
    "execution": {
     "iopub.execute_input": "2020-10-23T12:51:47.464415Z",
     "iopub.status.busy": "2020-10-23T12:51:47.463779Z",
     "iopub.status.idle": "2020-10-23T12:51:47.470690Z",
     "shell.execute_reply": "2020-10-23T12:51:47.470021Z"
    },
    "papermill": {
     "duration": 0.051006,
     "end_time": "2020-10-23T12:51:47.470800",
     "exception": false,
     "start_time": "2020-10-23T12:51:47.419794",
     "status": "completed"
    },
    "tags": []
   },
   "outputs": [],
   "source": [
    "import numpy as np\n",
    "import pandas as pd "
   ]
  },
  {
   "cell_type": "markdown",
   "metadata": {
    "papermill": {
     "duration": 0.035055,
     "end_time": "2020-10-23T12:51:47.541678",
     "exception": false,
     "start_time": "2020-10-23T12:51:47.506623",
     "status": "completed"
    },
    "tags": []
   },
   "source": [
    "## In this project, sentiments in tweets are analyzed. In brief, the goal is to classify the tweets based on positive sentiments using words (such as love, happy) and negative sentiments using words (racist, hate). The tasks performed are:\n",
    "1. Data Collection Phase - used twitter dataset of kaggle\n",
    "2. Preprocessing Phase: \n",
    "    a. Exploratory Data Analysis\n",
    "    b. Data cleaning (Removing Punctuations and Stopwords)\n",
    "3. Feature Extraction Phase - Countvectorization (Tockenization)\n",
    "4. Classification - Train Naive Bayes Classifier\n",
    "5. Evaluation Phase - Analyze Model Performance"
   ]
  },
  {
   "cell_type": "code",
   "execution_count": 7,
   "metadata": {
    "_cell_guid": "79c7e3d0-c299-4dcb-8224-4455121ee9b0",
    "_uuid": "d629ff2d2480ee46fbb7e2d37f6b5fab8052498a",
    "execution": {
     "iopub.execute_input": "2020-10-23T12:51:47.687728Z",
     "iopub.status.busy": "2020-10-23T12:51:47.687100Z",
     "iopub.status.idle": "2020-10-23T12:51:47.801582Z",
     "shell.execute_reply": "2020-10-23T12:51:47.800865Z"
    },
    "papermill": {
     "duration": 0.154828,
     "end_time": "2020-10-23T12:51:47.801700",
     "exception": false,
     "start_time": "2020-10-23T12:51:47.646872",
     "status": "completed"
    },
    "tags": []
   },
   "outputs": [],
   "source": [
    "#reading the train and test dataset\n",
    "tweets_test_df = pd.read_csv('test.csv')\n",
    "tweets_train_df = pd.read_csv('train.csv')"
   ]
  },
  {
   "cell_type": "code",
   "execution_count": 8,
   "metadata": {
    "execution": {
     "iopub.execute_input": "2020-10-23T12:51:47.877104Z",
     "iopub.status.busy": "2020-10-23T12:51:47.876511Z",
     "iopub.status.idle": "2020-10-23T12:51:48.789076Z",
     "shell.execute_reply": "2020-10-23T12:51:48.788427Z"
    },
    "papermill": {
     "duration": 0.952085,
     "end_time": "2020-10-23T12:51:48.789208",
     "exception": false,
     "start_time": "2020-10-23T12:51:47.837123",
     "status": "completed"
    },
    "tags": []
   },
   "outputs": [],
   "source": [
    "import pandas as pd\n",
    "import numpy as np\n",
    "import seaborn as sns\n",
    "import matplotlib.pyplot as plt"
   ]
  },
  {
   "cell_type": "code",
   "execution_count": 9,
   "metadata": {
    "execution": {
     "iopub.execute_input": "2020-10-23T12:51:48.872012Z",
     "iopub.status.busy": "2020-10-23T12:51:48.871365Z",
     "iopub.status.idle": "2020-10-23T12:51:48.878413Z",
     "shell.execute_reply": "2020-10-23T12:51:48.877797Z"
    },
    "papermill": {
     "duration": 0.053952,
     "end_time": "2020-10-23T12:51:48.878520",
     "exception": false,
     "start_time": "2020-10-23T12:51:48.824568",
     "status": "completed"
    },
    "tags": []
   },
   "outputs": [
    {
     "data": {
      "text/html": [
       "<div>\n",
       "<style scoped>\n",
       "    .dataframe tbody tr th:only-of-type {\n",
       "        vertical-align: middle;\n",
       "    }\n",
       "\n",
       "    .dataframe tbody tr th {\n",
       "        vertical-align: top;\n",
       "    }\n",
       "\n",
       "    .dataframe thead th {\n",
       "        text-align: right;\n",
       "    }\n",
       "</style>\n",
       "<table border=\"1\" class=\"dataframe\">\n",
       "  <thead>\n",
       "    <tr style=\"text-align: right;\">\n",
       "      <th></th>\n",
       "      <th>id</th>\n",
       "      <th>label</th>\n",
       "      <th>tweet</th>\n",
       "    </tr>\n",
       "  </thead>\n",
       "  <tbody>\n",
       "    <tr>\n",
       "      <th>0</th>\n",
       "      <td>1</td>\n",
       "      <td>0</td>\n",
       "      <td>@user when a father is dysfunctional and is s...</td>\n",
       "    </tr>\n",
       "    <tr>\n",
       "      <th>1</th>\n",
       "      <td>2</td>\n",
       "      <td>0</td>\n",
       "      <td>@user @user thanks for #lyft credit i can't us...</td>\n",
       "    </tr>\n",
       "    <tr>\n",
       "      <th>2</th>\n",
       "      <td>3</td>\n",
       "      <td>0</td>\n",
       "      <td>bihday your majesty</td>\n",
       "    </tr>\n",
       "    <tr>\n",
       "      <th>3</th>\n",
       "      <td>4</td>\n",
       "      <td>0</td>\n",
       "      <td>#model   i love u take with u all the time in ...</td>\n",
       "    </tr>\n",
       "    <tr>\n",
       "      <th>4</th>\n",
       "      <td>5</td>\n",
       "      <td>0</td>\n",
       "      <td>factsguide: society now    #motivation</td>\n",
       "    </tr>\n",
       "  </tbody>\n",
       "</table>\n",
       "</div>"
      ],
      "text/plain": [
       "   id  label                                              tweet\n",
       "0   1      0   @user when a father is dysfunctional and is s...\n",
       "1   2      0  @user @user thanks for #lyft credit i can't us...\n",
       "2   3      0                                bihday your majesty\n",
       "3   4      0  #model   i love u take with u all the time in ...\n",
       "4   5      0             factsguide: society now    #motivation"
      ]
     },
     "execution_count": 9,
     "metadata": {},
     "output_type": "execute_result"
    }
   ],
   "source": [
    "tweets_train_df.head()"
   ]
  },
  {
   "cell_type": "markdown",
   "metadata": {},
   "source": [
    "## Data Preprocessing - Exploratory Data Analysis"
   ]
  },
  {
   "cell_type": "code",
   "execution_count": 10,
   "metadata": {
    "execution": {
     "iopub.execute_input": "2020-10-23T12:51:48.958349Z",
     "iopub.status.busy": "2020-10-23T12:51:48.957733Z",
     "iopub.status.idle": "2020-10-23T12:51:48.971225Z",
     "shell.execute_reply": "2020-10-23T12:51:48.970622Z"
    },
    "papermill": {
     "duration": 0.057014,
     "end_time": "2020-10-23T12:51:48.971332",
     "exception": false,
     "start_time": "2020-10-23T12:51:48.914318",
     "status": "completed"
    },
    "tags": []
   },
   "outputs": [
    {
     "name": "stdout",
     "output_type": "stream",
     "text": [
      "<class 'pandas.core.frame.DataFrame'>\n",
      "RangeIndex: 31962 entries, 0 to 31961\n",
      "Data columns (total 3 columns):\n",
      " #   Column  Non-Null Count  Dtype \n",
      "---  ------  --------------  ----- \n",
      " 0   id      31962 non-null  int64 \n",
      " 1   label   31962 non-null  int64 \n",
      " 2   tweet   31962 non-null  object\n",
      "dtypes: int64(2), object(1)\n",
      "memory usage: 749.2+ KB\n"
     ]
    }
   ],
   "source": [
    "tweets_train_df.info()"
   ]
  },
  {
   "cell_type": "code",
   "execution_count": 11,
   "metadata": {
    "execution": {
     "iopub.execute_input": "2020-10-23T12:51:49.052427Z",
     "iopub.status.busy": "2020-10-23T12:51:49.051752Z",
     "iopub.status.idle": "2020-10-23T12:51:49.068501Z",
     "shell.execute_reply": "2020-10-23T12:51:49.067948Z"
    },
    "papermill": {
     "duration": 0.060936,
     "end_time": "2020-10-23T12:51:49.068609",
     "exception": false,
     "start_time": "2020-10-23T12:51:49.007673",
     "status": "completed"
    },
    "tags": []
   },
   "outputs": [
    {
     "data": {
      "text/html": [
       "<div>\n",
       "<style scoped>\n",
       "    .dataframe tbody tr th:only-of-type {\n",
       "        vertical-align: middle;\n",
       "    }\n",
       "\n",
       "    .dataframe tbody tr th {\n",
       "        vertical-align: top;\n",
       "    }\n",
       "\n",
       "    .dataframe thead th {\n",
       "        text-align: right;\n",
       "    }\n",
       "</style>\n",
       "<table border=\"1\" class=\"dataframe\">\n",
       "  <thead>\n",
       "    <tr style=\"text-align: right;\">\n",
       "      <th></th>\n",
       "      <th>id</th>\n",
       "      <th>label</th>\n",
       "    </tr>\n",
       "  </thead>\n",
       "  <tbody>\n",
       "    <tr>\n",
       "      <th>count</th>\n",
       "      <td>31962.000000</td>\n",
       "      <td>31962.000000</td>\n",
       "    </tr>\n",
       "    <tr>\n",
       "      <th>mean</th>\n",
       "      <td>15981.500000</td>\n",
       "      <td>0.070146</td>\n",
       "    </tr>\n",
       "    <tr>\n",
       "      <th>std</th>\n",
       "      <td>9226.778988</td>\n",
       "      <td>0.255397</td>\n",
       "    </tr>\n",
       "    <tr>\n",
       "      <th>min</th>\n",
       "      <td>1.000000</td>\n",
       "      <td>0.000000</td>\n",
       "    </tr>\n",
       "    <tr>\n",
       "      <th>25%</th>\n",
       "      <td>7991.250000</td>\n",
       "      <td>0.000000</td>\n",
       "    </tr>\n",
       "    <tr>\n",
       "      <th>50%</th>\n",
       "      <td>15981.500000</td>\n",
       "      <td>0.000000</td>\n",
       "    </tr>\n",
       "    <tr>\n",
       "      <th>75%</th>\n",
       "      <td>23971.750000</td>\n",
       "      <td>0.000000</td>\n",
       "    </tr>\n",
       "    <tr>\n",
       "      <th>max</th>\n",
       "      <td>31962.000000</td>\n",
       "      <td>1.000000</td>\n",
       "    </tr>\n",
       "  </tbody>\n",
       "</table>\n",
       "</div>"
      ],
      "text/plain": [
       "                 id         label\n",
       "count  31962.000000  31962.000000\n",
       "mean   15981.500000      0.070146\n",
       "std     9226.778988      0.255397\n",
       "min        1.000000      0.000000\n",
       "25%     7991.250000      0.000000\n",
       "50%    15981.500000      0.000000\n",
       "75%    23971.750000      0.000000\n",
       "max    31962.000000      1.000000"
      ]
     },
     "execution_count": 11,
     "metadata": {},
     "output_type": "execute_result"
    }
   ],
   "source": [
    "tweets_train_df.describe()"
   ]
  },
  {
   "cell_type": "code",
   "execution_count": 12,
   "metadata": {
    "execution": {
     "iopub.execute_input": "2020-10-23T12:51:49.149765Z",
     "iopub.status.busy": "2020-10-23T12:51:49.149033Z",
     "iopub.status.idle": "2020-10-23T12:51:49.152849Z",
     "shell.execute_reply": "2020-10-23T12:51:49.152379Z"
    },
    "papermill": {
     "duration": 0.047456,
     "end_time": "2020-10-23T12:51:49.152954",
     "exception": false,
     "start_time": "2020-10-23T12:51:49.105498",
     "status": "completed"
    },
    "tags": []
   },
   "outputs": [
    {
     "data": {
      "text/plain": [
       "0         @user when a father is dysfunctional and is s...\n",
       "1        @user @user thanks for #lyft credit i can't us...\n",
       "2                                      bihday your majesty\n",
       "3        #model   i love u take with u all the time in ...\n",
       "4                   factsguide: society now    #motivation\n",
       "                               ...                        \n",
       "31957    ate @user isz that youuu?ðððððð...\n",
       "31958      to see nina turner on the airwaves trying to...\n",
       "31959    listening to sad songs on a monday morning otw...\n",
       "31960    @user #sikh #temple vandalised in in #calgary,...\n",
       "31961                     thank you @user for you follow  \n",
       "Name: tweet, Length: 31962, dtype: object"
      ]
     },
     "execution_count": 12,
     "metadata": {},
     "output_type": "execute_result"
    }
   ],
   "source": [
    "tweets_train_df['tweet']"
   ]
  },
  {
   "cell_type": "code",
   "execution_count": 13,
   "metadata": {
    "execution": {
     "iopub.execute_input": "2020-10-23T12:51:49.234900Z",
     "iopub.status.busy": "2020-10-23T12:51:49.234171Z",
     "iopub.status.idle": "2020-10-23T12:51:49.236941Z",
     "shell.execute_reply": "2020-10-23T12:51:49.236439Z"
    },
    "papermill": {
     "duration": 0.046713,
     "end_time": "2020-10-23T12:51:49.237042",
     "exception": false,
     "start_time": "2020-10-23T12:51:49.190329",
     "status": "completed"
    },
    "tags": []
   },
   "outputs": [],
   "source": [
    "tweets_train_df.drop(['id'], axis=1, inplace=True)"
   ]
  },
  {
   "cell_type": "code",
   "execution_count": 14,
   "metadata": {
    "execution": {
     "iopub.execute_input": "2020-10-23T12:51:49.320680Z",
     "iopub.status.busy": "2020-10-23T12:51:49.319985Z",
     "iopub.status.idle": "2020-10-23T12:51:49.323496Z",
     "shell.execute_reply": "2020-10-23T12:51:49.323964Z"
    },
    "papermill": {
     "duration": 0.049186,
     "end_time": "2020-10-23T12:51:49.324090",
     "exception": false,
     "start_time": "2020-10-23T12:51:49.274904",
     "status": "completed"
    },
    "tags": []
   },
   "outputs": [
    {
     "data": {
      "text/html": [
       "<div>\n",
       "<style scoped>\n",
       "    .dataframe tbody tr th:only-of-type {\n",
       "        vertical-align: middle;\n",
       "    }\n",
       "\n",
       "    .dataframe tbody tr th {\n",
       "        vertical-align: top;\n",
       "    }\n",
       "\n",
       "    .dataframe thead th {\n",
       "        text-align: right;\n",
       "    }\n",
       "</style>\n",
       "<table border=\"1\" class=\"dataframe\">\n",
       "  <thead>\n",
       "    <tr style=\"text-align: right;\">\n",
       "      <th></th>\n",
       "      <th>label</th>\n",
       "      <th>tweet</th>\n",
       "    </tr>\n",
       "  </thead>\n",
       "  <tbody>\n",
       "    <tr>\n",
       "      <th>0</th>\n",
       "      <td>0</td>\n",
       "      <td>@user when a father is dysfunctional and is s...</td>\n",
       "    </tr>\n",
       "    <tr>\n",
       "      <th>1</th>\n",
       "      <td>0</td>\n",
       "      <td>@user @user thanks for #lyft credit i can't us...</td>\n",
       "    </tr>\n",
       "    <tr>\n",
       "      <th>2</th>\n",
       "      <td>0</td>\n",
       "      <td>bihday your majesty</td>\n",
       "    </tr>\n",
       "    <tr>\n",
       "      <th>3</th>\n",
       "      <td>0</td>\n",
       "      <td>#model   i love u take with u all the time in ...</td>\n",
       "    </tr>\n",
       "    <tr>\n",
       "      <th>4</th>\n",
       "      <td>0</td>\n",
       "      <td>factsguide: society now    #motivation</td>\n",
       "    </tr>\n",
       "  </tbody>\n",
       "</table>\n",
       "</div>"
      ],
      "text/plain": [
       "   label                                              tweet\n",
       "0      0   @user when a father is dysfunctional and is s...\n",
       "1      0  @user @user thanks for #lyft credit i can't us...\n",
       "2      0                                bihday your majesty\n",
       "3      0  #model   i love u take with u all the time in ...\n",
       "4      0             factsguide: society now    #motivation"
      ]
     },
     "execution_count": 14,
     "metadata": {},
     "output_type": "execute_result"
    }
   ],
   "source": [
    "tweets_train_df.head()"
   ]
  },
  {
   "cell_type": "markdown",
   "metadata": {
    "papermill": {
     "duration": 0.037336,
     "end_time": "2020-10-23T12:51:49.398996",
     "exception": false,
     "start_time": "2020-10-23T12:51:49.361660",
     "status": "completed"
    },
    "tags": []
   },
   "source": [
    "## Exploring Dataset"
   ]
  },
  {
   "cell_type": "code",
   "execution_count": 15,
   "metadata": {
    "execution": {
     "iopub.execute_input": "2020-10-23T12:51:49.483091Z",
     "iopub.status.busy": "2020-10-23T12:51:49.482250Z",
     "iopub.status.idle": "2020-10-23T12:51:49.654068Z",
     "shell.execute_reply": "2020-10-23T12:51:49.654599Z"
    },
    "papermill": {
     "duration": 0.217967,
     "end_time": "2020-10-23T12:51:49.654758",
     "exception": false,
     "start_time": "2020-10-23T12:51:49.436791",
     "status": "completed"
    },
    "tags": []
   },
   "outputs": [],
   "source": [
    "#sns.heatmap(tweets_train_df.isnull(), yticklabels = False, cbar = False, cmap = 'Blues')"
   ]
  },
  {
   "cell_type": "code",
   "execution_count": 16,
   "metadata": {
    "execution": {
     "iopub.execute_input": "2020-10-23T12:51:49.738878Z",
     "iopub.status.busy": "2020-10-23T12:51:49.738169Z",
     "iopub.status.idle": "2020-10-23T12:51:49.937133Z",
     "shell.execute_reply": "2020-10-23T12:51:49.936620Z"
    },
    "papermill": {
     "duration": 0.2418,
     "end_time": "2020-10-23T12:51:49.937257",
     "exception": false,
     "start_time": "2020-10-23T12:51:49.695457",
     "status": "completed"
    },
    "tags": []
   },
   "outputs": [
    {
     "data": {
      "text/plain": [
       "array([[<AxesSubplot:title={'center':'label'}>]], dtype=object)"
      ]
     },
     "execution_count": 16,
     "metadata": {},
     "output_type": "execute_result"
    },
    {
     "data": {
      "image/png": "[encoded data removed]",
      "text/plain": [
       "<Figure size 864x360 with 1 Axes>"
      ]
     },
     "metadata": {
      "needs_background": "light"
     },
     "output_type": "display_data"
    }
   ],
   "source": [
    "tweets_train_df.hist(bins= 30, figsize = (12,5), color = 'b')"
   ]
  },
  {
   "cell_type": "code",
   "execution_count": 17,
   "metadata": {
    "execution": {
     "iopub.execute_input": "2020-10-23T12:51:50.031057Z",
     "iopub.status.busy": "2020-10-23T12:51:50.025954Z",
     "iopub.status.idle": "2020-10-23T12:51:50.135300Z",
     "shell.execute_reply": "2020-10-23T12:51:50.134769Z"
    },
    "papermill": {
     "duration": 0.158098,
     "end_time": "2020-10-23T12:51:50.135408",
     "exception": false,
     "start_time": "2020-10-23T12:51:49.977310",
     "status": "completed"
    },
    "tags": []
   },
   "outputs": [
    {
     "data": {
      "text/plain": [
       "<AxesSubplot:xlabel='label', ylabel='count'>"
      ]
     },
     "execution_count": 17,
     "metadata": {},
     "output_type": "execute_result"
    },
    {
     "data": {
      "image/png": "[encoded data removed]",
      "text/plain": [
       "<Figure size 432x288 with 1 Axes>"
      ]
     },
     "metadata": {
      "needs_background": "light"
     },
     "output_type": "display_data"
    }
   ],
   "source": [
    "# These plots clearly shows that its a complete unbalanced data.\n",
    "sns.countplot(x=tweets_train_df['label'] ,data=tweets_train_df)"
   ]
  },
  {
   "cell_type": "code",
   "execution_count": 18,
   "metadata": {
    "execution": {
     "iopub.execute_input": "2020-10-23T12:51:50.239784Z",
     "iopub.status.busy": "2020-10-23T12:51:50.238844Z",
     "iopub.status.idle": "2020-10-23T12:51:50.243694Z",
     "shell.execute_reply": "2020-10-23T12:51:50.244365Z"
    },
    "papermill": {
     "duration": 0.064658,
     "end_time": "2020-10-23T12:51:50.244537",
     "exception": false,
     "start_time": "2020-10-23T12:51:50.179879",
     "status": "completed"
    },
    "tags": []
   },
   "outputs": [
    {
     "data": {
      "text/html": [
       "<div>\n",
       "<style scoped>\n",
       "    .dataframe tbody tr th:only-of-type {\n",
       "        vertical-align: middle;\n",
       "    }\n",
       "\n",
       "    .dataframe tbody tr th {\n",
       "        vertical-align: top;\n",
       "    }\n",
       "\n",
       "    .dataframe thead th {\n",
       "        text-align: right;\n",
       "    }\n",
       "</style>\n",
       "<table border=\"1\" class=\"dataframe\">\n",
       "  <thead>\n",
       "    <tr style=\"text-align: right;\">\n",
       "      <th></th>\n",
       "      <th>id</th>\n",
       "      <th>tweet</th>\n",
       "    </tr>\n",
       "  </thead>\n",
       "  <tbody>\n",
       "    <tr>\n",
       "      <th>0</th>\n",
       "      <td>31963</td>\n",
       "      <td>#studiolife #aislife #requires #passion #dedic...</td>\n",
       "    </tr>\n",
       "    <tr>\n",
       "      <th>1</th>\n",
       "      <td>31964</td>\n",
       "      <td>@user #white #supremacists want everyone to s...</td>\n",
       "    </tr>\n",
       "    <tr>\n",
       "      <th>2</th>\n",
       "      <td>31965</td>\n",
       "      <td>safe ways to heal your #acne!!    #altwaystohe...</td>\n",
       "    </tr>\n",
       "    <tr>\n",
       "      <th>3</th>\n",
       "      <td>31966</td>\n",
       "      <td>is the hp and the cursed child book up for res...</td>\n",
       "    </tr>\n",
       "    <tr>\n",
       "      <th>4</th>\n",
       "      <td>31967</td>\n",
       "      <td>3rd #bihday to my amazing, hilarious #nephew...</td>\n",
       "    </tr>\n",
       "  </tbody>\n",
       "</table>\n",
       "</div>"
      ],
      "text/plain": [
       "      id                                              tweet\n",
       "0  31963  #studiolife #aislife #requires #passion #dedic...\n",
       "1  31964   @user #white #supremacists want everyone to s...\n",
       "2  31965  safe ways to heal your #acne!!    #altwaystohe...\n",
       "3  31966  is the hp and the cursed child book up for res...\n",
       "4  31967    3rd #bihday to my amazing, hilarious #nephew..."
      ]
     },
     "execution_count": 18,
     "metadata": {},
     "output_type": "execute_result"
    }
   ],
   "source": [
    "tweets_test_df.head()"
   ]
  },
  {
   "cell_type": "code",
   "execution_count": 19,
   "metadata": {
    "execution": {
     "iopub.execute_input": "2020-10-23T12:51:50.358458Z",
     "iopub.status.busy": "2020-10-23T12:51:50.350125Z",
     "iopub.status.idle": "2020-10-23T12:51:50.362995Z",
     "shell.execute_reply": "2020-10-23T12:51:50.362265Z"
    },
    "papermill": {
     "duration": 0.06221,
     "end_time": "2020-10-23T12:51:50.363136",
     "exception": false,
     "start_time": "2020-10-23T12:51:50.300926",
     "status": "completed"
    },
    "tags": []
   },
   "outputs": [],
   "source": [
    "tweets_train_df['lengths'] = tweets_train_df['tweet'].apply(len)"
   ]
  },
  {
   "cell_type": "code",
   "execution_count": 20,
   "metadata": {
    "execution": {
     "iopub.execute_input": "2020-10-23T12:51:50.473570Z",
     "iopub.status.busy": "2020-10-23T12:51:50.472625Z",
     "iopub.status.idle": "2020-10-23T12:51:50.478087Z",
     "shell.execute_reply": "2020-10-23T12:51:50.477605Z"
    },
    "papermill": {
     "duration": 0.062081,
     "end_time": "2020-10-23T12:51:50.478232",
     "exception": false,
     "start_time": "2020-10-23T12:51:50.416151",
     "status": "completed"
    },
    "tags": []
   },
   "outputs": [
    {
     "data": {
      "text/html": [
       "<div>\n",
       "<style scoped>\n",
       "    .dataframe tbody tr th:only-of-type {\n",
       "        vertical-align: middle;\n",
       "    }\n",
       "\n",
       "    .dataframe tbody tr th {\n",
       "        vertical-align: top;\n",
       "    }\n",
       "\n",
       "    .dataframe thead th {\n",
       "        text-align: right;\n",
       "    }\n",
       "</style>\n",
       "<table border=\"1\" class=\"dataframe\">\n",
       "  <thead>\n",
       "    <tr style=\"text-align: right;\">\n",
       "      <th></th>\n",
       "      <th>label</th>\n",
       "      <th>tweet</th>\n",
       "      <th>lengths</th>\n",
       "    </tr>\n",
       "  </thead>\n",
       "  <tbody>\n",
       "    <tr>\n",
       "      <th>0</th>\n",
       "      <td>0</td>\n",
       "      <td>@user when a father is dysfunctional and is s...</td>\n",
       "      <td>102</td>\n",
       "    </tr>\n",
       "    <tr>\n",
       "      <th>1</th>\n",
       "      <td>0</td>\n",
       "      <td>@user @user thanks for #lyft credit i can't us...</td>\n",
       "      <td>122</td>\n",
       "    </tr>\n",
       "    <tr>\n",
       "      <th>2</th>\n",
       "      <td>0</td>\n",
       "      <td>bihday your majesty</td>\n",
       "      <td>21</td>\n",
       "    </tr>\n",
       "    <tr>\n",
       "      <th>3</th>\n",
       "      <td>0</td>\n",
       "      <td>#model   i love u take with u all the time in ...</td>\n",
       "      <td>86</td>\n",
       "    </tr>\n",
       "    <tr>\n",
       "      <th>4</th>\n",
       "      <td>0</td>\n",
       "      <td>factsguide: society now    #motivation</td>\n",
       "      <td>39</td>\n",
       "    </tr>\n",
       "  </tbody>\n",
       "</table>\n",
       "</div>"
      ],
      "text/plain": [
       "   label                                              tweet  lengths\n",
       "0      0   @user when a father is dysfunctional and is s...      102\n",
       "1      0  @user @user thanks for #lyft credit i can't us...      122\n",
       "2      0                                bihday your majesty       21\n",
       "3      0  #model   i love u take with u all the time in ...       86\n",
       "4      0             factsguide: society now    #motivation       39"
      ]
     },
     "execution_count": 20,
     "metadata": {},
     "output_type": "execute_result"
    }
   ],
   "source": [
    "tweets_train_df.head()"
   ]
  },
  {
   "cell_type": "code",
   "execution_count": 21,
   "metadata": {
    "execution": {
     "iopub.execute_input": "2020-10-23T12:51:50.567563Z",
     "iopub.status.busy": "2020-10-23T12:51:50.566620Z",
     "iopub.status.idle": "2020-10-23T12:51:50.905764Z",
     "shell.execute_reply": "2020-10-23T12:51:50.907378Z"
    },
    "papermill": {
     "duration": 0.387587,
     "end_time": "2020-10-23T12:51:50.907584",
     "exception": false,
     "start_time": "2020-10-23T12:51:50.519997",
     "status": "completed"
    },
    "tags": []
   },
   "outputs": [
    {
     "data": {
      "text/plain": [
       "<AxesSubplot:ylabel='Frequency'>"
      ]
     },
     "execution_count": 21,
     "metadata": {},
     "output_type": "execute_result"
    },
    {
     "data": {
      "image/png": "[encoded data removed]",
      "text/plain": [
       "<Figure size 432x288 with 1 Axes>"
      ]
     },
     "metadata": {
      "needs_background": "light"
     },
     "output_type": "display_data"
    }
   ],
   "source": [
    "#distribution of tweets\n",
    "tweets_train_df['lengths'].plot(bins=100, kind = 'hist')"
   ]
  },
  {
   "cell_type": "code",
   "execution_count": 22,
   "metadata": {
    "execution": {
     "iopub.execute_input": "2020-10-23T12:51:51.014734Z",
     "iopub.status.busy": "2020-10-23T12:51:51.014080Z",
     "iopub.status.idle": "2020-10-23T12:51:51.033038Z",
     "shell.execute_reply": "2020-10-23T12:51:51.032567Z"
    },
    "papermill": {
     "duration": 0.078624,
     "end_time": "2020-10-23T12:51:51.033156",
     "exception": false,
     "start_time": "2020-10-23T12:51:50.954532",
     "status": "completed"
    },
    "tags": []
   },
   "outputs": [
    {
     "data": {
      "text/html": [
       "<div>\n",
       "<style scoped>\n",
       "    .dataframe tbody tr th:only-of-type {\n",
       "        vertical-align: middle;\n",
       "    }\n",
       "\n",
       "    .dataframe tbody tr th {\n",
       "        vertical-align: top;\n",
       "    }\n",
       "\n",
       "    .dataframe thead th {\n",
       "        text-align: right;\n",
       "    }\n",
       "</style>\n",
       "<table border=\"1\" class=\"dataframe\">\n",
       "  <thead>\n",
       "    <tr style=\"text-align: right;\">\n",
       "      <th></th>\n",
       "      <th>label</th>\n",
       "      <th>lengths</th>\n",
       "    </tr>\n",
       "  </thead>\n",
       "  <tbody>\n",
       "    <tr>\n",
       "      <th>count</th>\n",
       "      <td>31962.000000</td>\n",
       "      <td>31962.000000</td>\n",
       "    </tr>\n",
       "    <tr>\n",
       "      <th>mean</th>\n",
       "      <td>0.070146</td>\n",
       "      <td>84.739628</td>\n",
       "    </tr>\n",
       "    <tr>\n",
       "      <th>std</th>\n",
       "      <td>0.255397</td>\n",
       "      <td>29.455749</td>\n",
       "    </tr>\n",
       "    <tr>\n",
       "      <th>min</th>\n",
       "      <td>0.000000</td>\n",
       "      <td>11.000000</td>\n",
       "    </tr>\n",
       "    <tr>\n",
       "      <th>25%</th>\n",
       "      <td>0.000000</td>\n",
       "      <td>63.000000</td>\n",
       "    </tr>\n",
       "    <tr>\n",
       "      <th>50%</th>\n",
       "      <td>0.000000</td>\n",
       "      <td>88.000000</td>\n",
       "    </tr>\n",
       "    <tr>\n",
       "      <th>75%</th>\n",
       "      <td>0.000000</td>\n",
       "      <td>108.000000</td>\n",
       "    </tr>\n",
       "    <tr>\n",
       "      <th>max</th>\n",
       "      <td>1.000000</td>\n",
       "      <td>274.000000</td>\n",
       "    </tr>\n",
       "  </tbody>\n",
       "</table>\n",
       "</div>"
      ],
      "text/plain": [
       "              label       lengths\n",
       "count  31962.000000  31962.000000\n",
       "mean       0.070146     84.739628\n",
       "std        0.255397     29.455749\n",
       "min        0.000000     11.000000\n",
       "25%        0.000000     63.000000\n",
       "50%        0.000000     88.000000\n",
       "75%        0.000000    108.000000\n",
       "max        1.000000    274.000000"
      ]
     },
     "execution_count": 22,
     "metadata": {},
     "output_type": "execute_result"
    }
   ],
   "source": [
    "tweets_train_df.describe()"
   ]
  },
  {
   "cell_type": "code",
   "execution_count": 23,
   "metadata": {
    "execution": {
     "iopub.execute_input": "2020-10-23T12:51:51.127728Z",
     "iopub.status.busy": "2020-10-23T12:51:51.127059Z",
     "iopub.status.idle": "2020-10-23T12:51:51.224393Z",
     "shell.execute_reply": "2020-10-23T12:51:51.223554Z"
    },
    "papermill": {
     "duration": 0.146777,
     "end_time": "2020-10-23T12:51:51.224536",
     "exception": false,
     "start_time": "2020-10-23T12:51:51.077759",
     "status": "completed"
    },
    "tags": []
   },
   "outputs": [
    {
     "data": {
      "text/plain": [
       "'i love you '"
      ]
     },
     "execution_count": 23,
     "metadata": {},
     "output_type": "execute_result"
    }
   ],
   "source": [
    "#Finding minimum length\n",
    "tweets_train_df[tweets_train_df['lengths']==11]['tweet'].iloc[0]"
   ]
  },
  {
   "cell_type": "code",
   "execution_count": 24,
   "metadata": {
    "execution": {
     "iopub.execute_input": "2020-10-23T12:51:51.333964Z",
     "iopub.status.busy": "2020-10-23T12:51:51.324684Z",
     "iopub.status.idle": "2020-10-23T12:51:51.338117Z",
     "shell.execute_reply": "2020-10-23T12:51:51.337611Z"
    },
    "papermill": {
     "duration": 0.06205,
     "end_time": "2020-10-23T12:51:51.338247",
     "exception": false,
     "start_time": "2020-10-23T12:51:51.276197",
     "status": "completed"
    },
    "tags": []
   },
   "outputs": [
    {
     "data": {
      "text/html": [
       "<div>\n",
       "<style scoped>\n",
       "    .dataframe tbody tr th:only-of-type {\n",
       "        vertical-align: middle;\n",
       "    }\n",
       "\n",
       "    .dataframe tbody tr th {\n",
       "        vertical-align: top;\n",
       "    }\n",
       "\n",
       "    .dataframe thead th {\n",
       "        text-align: right;\n",
       "    }\n",
       "</style>\n",
       "<table border=\"1\" class=\"dataframe\">\n",
       "  <thead>\n",
       "    <tr style=\"text-align: right;\">\n",
       "      <th></th>\n",
       "      <th>label</th>\n",
       "      <th>tweet</th>\n",
       "      <th>lengths</th>\n",
       "    </tr>\n",
       "  </thead>\n",
       "  <tbody>\n",
       "    <tr>\n",
       "      <th>115</th>\n",
       "      <td>0</td>\n",
       "      <td>â #under the spell of brexit referendum - c...</td>\n",
       "      <td>85</td>\n",
       "    </tr>\n",
       "    <tr>\n",
       "      <th>242</th>\n",
       "      <td>0</td>\n",
       "      <td>make today count! #mondaymotivation #livelifet...</td>\n",
       "      <td>85</td>\n",
       "    </tr>\n",
       "    <tr>\n",
       "      <th>384</th>\n",
       "      <td>0</td>\n",
       "      <td>dream palace, can we move in already? #stellar...</td>\n",
       "      <td>85</td>\n",
       "    </tr>\n",
       "    <tr>\n",
       "      <th>573</th>\n",
       "      <td>0</td>\n",
       "      <td>@user monkeys are also declared as vermin. no ...</td>\n",
       "      <td>85</td>\n",
       "    </tr>\n",
       "    <tr>\n",
       "      <th>634</th>\n",
       "      <td>0</td>\n",
       "      <td>save thousands $$ free search x logins x broke...</td>\n",
       "      <td>85</td>\n",
       "    </tr>\n",
       "    <tr>\n",
       "      <th>...</th>\n",
       "      <td>...</td>\n",
       "      <td>...</td>\n",
       "      <td>...</td>\n",
       "    </tr>\n",
       "    <tr>\n",
       "      <th>31393</th>\n",
       "      <td>0</td>\n",
       "      <td>#flagday2016   #flag #day #2016 #(30 #photos) ...</td>\n",
       "      <td>85</td>\n",
       "    </tr>\n",
       "    <tr>\n",
       "      <th>31468</th>\n",
       "      <td>0</td>\n",
       "      <td>jts88troxy theater   jts88@user ð #love #si...</td>\n",
       "      <td>85</td>\n",
       "    </tr>\n",
       "    <tr>\n",
       "      <th>31542</th>\n",
       "      <td>0</td>\n",
       "      <td>stretched to the limit and still #waiting pati...</td>\n",
       "      <td>85</td>\n",
       "    </tr>\n",
       "    <tr>\n",
       "      <th>31773</th>\n",
       "      <td>0</td>\n",
       "      <td>this reminds me of this. i am   love these two...</td>\n",
       "      <td>85</td>\n",
       "    </tr>\n",
       "    <tr>\n",
       "      <th>31799</th>\n",
       "      <td>0</td>\n",
       "      <td>can #lighttherapy help with   or #depression? ...</td>\n",
       "      <td>85</td>\n",
       "    </tr>\n",
       "  </tbody>\n",
       "</table>\n",
       "<p>387 rows × 3 columns</p>\n",
       "</div>"
      ],
      "text/plain": [
       "       label                                              tweet  lengths\n",
       "115        0   â #under the spell of brexit referendum - c...       85\n",
       "242        0  make today count! #mondaymotivation #livelifet...       85\n",
       "384        0  dream palace, can we move in already? #stellar...       85\n",
       "573        0  @user monkeys are also declared as vermin. no ...       85\n",
       "634        0  save thousands $$ free search x logins x broke...       85\n",
       "...      ...                                                ...      ...\n",
       "31393      0  #flagday2016   #flag #day #2016 #(30 #photos) ...       85\n",
       "31468      0  jts88troxy theater   jts88@user ð #love #si...       85\n",
       "31542      0  stretched to the limit and still #waiting pati...       85\n",
       "31773      0  this reminds me of this. i am   love these two...       85\n",
       "31799      0  can #lighttherapy help with   or #depression? ...       85\n",
       "\n",
       "[387 rows x 3 columns]"
      ]
     },
     "execution_count": 24,
     "metadata": {},
     "output_type": "execute_result"
    }
   ],
   "source": [
    "# the mesage are brought down to an average length\n",
    "tweets_train_df[tweets_train_df['lengths']==85]"
   ]
  },
  {
   "cell_type": "code",
   "execution_count": 25,
   "metadata": {
    "execution": {
     "iopub.execute_input": "2020-10-23T12:51:51.433210Z",
     "iopub.status.busy": "2020-10-23T12:51:51.432577Z",
     "iopub.status.idle": "2020-10-23T12:51:51.446342Z",
     "shell.execute_reply": "2020-10-23T12:51:51.445770Z"
    },
    "papermill": {
     "duration": 0.062867,
     "end_time": "2020-10-23T12:51:51.446450",
     "exception": false,
     "start_time": "2020-10-23T12:51:51.383583",
     "status": "completed"
    },
    "tags": []
   },
   "outputs": [
    {
     "data": {
      "text/html": [
       "<div>\n",
       "<style scoped>\n",
       "    .dataframe tbody tr th:only-of-type {\n",
       "        vertical-align: middle;\n",
       "    }\n",
       "\n",
       "    .dataframe tbody tr th {\n",
       "        vertical-align: top;\n",
       "    }\n",
       "\n",
       "    .dataframe thead th {\n",
       "        text-align: right;\n",
       "    }\n",
       "</style>\n",
       "<table border=\"1\" class=\"dataframe\">\n",
       "  <thead>\n",
       "    <tr style=\"text-align: right;\">\n",
       "      <th></th>\n",
       "      <th>label</th>\n",
       "      <th>tweet</th>\n",
       "      <th>lengths</th>\n",
       "    </tr>\n",
       "  </thead>\n",
       "  <tbody>\n",
       "    <tr>\n",
       "      <th>0</th>\n",
       "      <td>0</td>\n",
       "      <td>@user when a father is dysfunctional and is s...</td>\n",
       "      <td>102</td>\n",
       "    </tr>\n",
       "    <tr>\n",
       "      <th>1</th>\n",
       "      <td>0</td>\n",
       "      <td>@user @user thanks for #lyft credit i can't us...</td>\n",
       "      <td>122</td>\n",
       "    </tr>\n",
       "    <tr>\n",
       "      <th>2</th>\n",
       "      <td>0</td>\n",
       "      <td>bihday your majesty</td>\n",
       "      <td>21</td>\n",
       "    </tr>\n",
       "    <tr>\n",
       "      <th>3</th>\n",
       "      <td>0</td>\n",
       "      <td>#model   i love u take with u all the time in ...</td>\n",
       "      <td>86</td>\n",
       "    </tr>\n",
       "    <tr>\n",
       "      <th>4</th>\n",
       "      <td>0</td>\n",
       "      <td>factsguide: society now    #motivation</td>\n",
       "      <td>39</td>\n",
       "    </tr>\n",
       "    <tr>\n",
       "      <th>...</th>\n",
       "      <td>...</td>\n",
       "      <td>...</td>\n",
       "      <td>...</td>\n",
       "    </tr>\n",
       "    <tr>\n",
       "      <th>31956</th>\n",
       "      <td>0</td>\n",
       "      <td>off fishing tomorrow @user carnt wait first ti...</td>\n",
       "      <td>61</td>\n",
       "    </tr>\n",
       "    <tr>\n",
       "      <th>31957</th>\n",
       "      <td>0</td>\n",
       "      <td>ate @user isz that youuu?ðððððð...</td>\n",
       "      <td>68</td>\n",
       "    </tr>\n",
       "    <tr>\n",
       "      <th>31958</th>\n",
       "      <td>0</td>\n",
       "      <td>to see nina turner on the airwaves trying to...</td>\n",
       "      <td>131</td>\n",
       "    </tr>\n",
       "    <tr>\n",
       "      <th>31959</th>\n",
       "      <td>0</td>\n",
       "      <td>listening to sad songs on a monday morning otw...</td>\n",
       "      <td>63</td>\n",
       "    </tr>\n",
       "    <tr>\n",
       "      <th>31961</th>\n",
       "      <td>0</td>\n",
       "      <td>thank you @user for you follow</td>\n",
       "      <td>32</td>\n",
       "    </tr>\n",
       "  </tbody>\n",
       "</table>\n",
       "<p>29720 rows × 3 columns</p>\n",
       "</div>"
      ],
      "text/plain": [
       "       label                                              tweet  lengths\n",
       "0          0   @user when a father is dysfunctional and is s...      102\n",
       "1          0  @user @user thanks for #lyft credit i can't us...      122\n",
       "2          0                                bihday your majesty       21\n",
       "3          0  #model   i love u take with u all the time in ...       86\n",
       "4          0             factsguide: society now    #motivation       39\n",
       "...      ...                                                ...      ...\n",
       "31956      0  off fishing tomorrow @user carnt wait first ti...       61\n",
       "31957      0  ate @user isz that youuu?ðððððð...       68\n",
       "31958      0    to see nina turner on the airwaves trying to...      131\n",
       "31959      0  listening to sad songs on a monday morning otw...       63\n",
       "31961      0                   thank you @user for you follow         32\n",
       "\n",
       "[29720 rows x 3 columns]"
      ]
     },
     "execution_count": 25,
     "metadata": {},
     "output_type": "execute_result"
    }
   ],
   "source": [
    "# Now separting positive and negative tweets\n",
    "positive = tweets_train_df[tweets_train_df['label']==0]\n",
    "positive"
   ]
  },
  {
   "cell_type": "code",
   "execution_count": 26,
   "metadata": {
    "execution": {
     "iopub.execute_input": "2020-10-23T12:51:51.542216Z",
     "iopub.status.busy": "2020-10-23T12:51:51.541332Z",
     "iopub.status.idle": "2020-10-23T12:51:51.553910Z",
     "shell.execute_reply": "2020-10-23T12:51:51.554408Z"
    },
    "papermill": {
     "duration": 0.062845,
     "end_time": "2020-10-23T12:51:51.554543",
     "exception": false,
     "start_time": "2020-10-23T12:51:51.491698",
     "status": "completed"
    },
    "tags": []
   },
   "outputs": [
    {
     "data": {
      "text/html": [
       "<div>\n",
       "<style scoped>\n",
       "    .dataframe tbody tr th:only-of-type {\n",
       "        vertical-align: middle;\n",
       "    }\n",
       "\n",
       "    .dataframe tbody tr th {\n",
       "        vertical-align: top;\n",
       "    }\n",
       "\n",
       "    .dataframe thead th {\n",
       "        text-align: right;\n",
       "    }\n",
       "</style>\n",
       "<table border=\"1\" class=\"dataframe\">\n",
       "  <thead>\n",
       "    <tr style=\"text-align: right;\">\n",
       "      <th></th>\n",
       "      <th>label</th>\n",
       "      <th>tweet</th>\n",
       "      <th>lengths</th>\n",
       "    </tr>\n",
       "  </thead>\n",
       "  <tbody>\n",
       "    <tr>\n",
       "      <th>13</th>\n",
       "      <td>1</td>\n",
       "      <td>@user #cnn calls #michigan middle school 'buil...</td>\n",
       "      <td>74</td>\n",
       "    </tr>\n",
       "    <tr>\n",
       "      <th>14</th>\n",
       "      <td>1</td>\n",
       "      <td>no comment!  in #australia   #opkillingbay #se...</td>\n",
       "      <td>101</td>\n",
       "    </tr>\n",
       "    <tr>\n",
       "      <th>17</th>\n",
       "      <td>1</td>\n",
       "      <td>retweet if you agree!</td>\n",
       "      <td>22</td>\n",
       "    </tr>\n",
       "    <tr>\n",
       "      <th>23</th>\n",
       "      <td>1</td>\n",
       "      <td>@user @user lumpy says i am a . prove it lumpy.</td>\n",
       "      <td>47</td>\n",
       "    </tr>\n",
       "    <tr>\n",
       "      <th>34</th>\n",
       "      <td>1</td>\n",
       "      <td>it's unbelievable that in the 21st century we'...</td>\n",
       "      <td>104</td>\n",
       "    </tr>\n",
       "    <tr>\n",
       "      <th>...</th>\n",
       "      <td>...</td>\n",
       "      <td>...</td>\n",
       "      <td>...</td>\n",
       "    </tr>\n",
       "    <tr>\n",
       "      <th>31934</th>\n",
       "      <td>1</td>\n",
       "      <td>lady banned from kentucky mall. @user  #jcpenn...</td>\n",
       "      <td>59</td>\n",
       "    </tr>\n",
       "    <tr>\n",
       "      <th>31946</th>\n",
       "      <td>1</td>\n",
       "      <td>@user omfg i'm offended! i'm a  mailbox and i'...</td>\n",
       "      <td>82</td>\n",
       "    </tr>\n",
       "    <tr>\n",
       "      <th>31947</th>\n",
       "      <td>1</td>\n",
       "      <td>@user @user you don't have the balls to hashta...</td>\n",
       "      <td>112</td>\n",
       "    </tr>\n",
       "    <tr>\n",
       "      <th>31948</th>\n",
       "      <td>1</td>\n",
       "      <td>makes you ask yourself, who am i? then am i a...</td>\n",
       "      <td>87</td>\n",
       "    </tr>\n",
       "    <tr>\n",
       "      <th>31960</th>\n",
       "      <td>1</td>\n",
       "      <td>@user #sikh #temple vandalised in in #calgary,...</td>\n",
       "      <td>67</td>\n",
       "    </tr>\n",
       "  </tbody>\n",
       "</table>\n",
       "<p>2242 rows × 3 columns</p>\n",
       "</div>"
      ],
      "text/plain": [
       "       label                                              tweet  lengths\n",
       "13         1  @user #cnn calls #michigan middle school 'buil...       74\n",
       "14         1  no comment!  in #australia   #opkillingbay #se...      101\n",
       "17         1                             retweet if you agree!        22\n",
       "23         1    @user @user lumpy says i am a . prove it lumpy.       47\n",
       "34         1  it's unbelievable that in the 21st century we'...      104\n",
       "...      ...                                                ...      ...\n",
       "31934      1  lady banned from kentucky mall. @user  #jcpenn...       59\n",
       "31946      1  @user omfg i'm offended! i'm a  mailbox and i'...       82\n",
       "31947      1  @user @user you don't have the balls to hashta...      112\n",
       "31948      1   makes you ask yourself, who am i? then am i a...       87\n",
       "31960      1  @user #sikh #temple vandalised in in #calgary,...       67\n",
       "\n",
       "[2242 rows x 3 columns]"
      ]
     },
     "execution_count": 26,
     "metadata": {},
     "output_type": "execute_result"
    }
   ],
   "source": [
    "negative = tweets_train_df[tweets_train_df['label']==1]\n",
    "negative"
   ]
  },
  {
   "cell_type": "code",
   "execution_count": 27,
   "metadata": {
    "execution": {
     "iopub.execute_input": "2020-10-23T12:51:51.649833Z",
     "iopub.status.busy": "2020-10-23T12:51:51.649205Z",
     "iopub.status.idle": "2020-10-23T12:51:51.690264Z",
     "shell.execute_reply": "2020-10-23T12:51:51.689674Z"
    },
    "papermill": {
     "duration": 0.090356,
     "end_time": "2020-10-23T12:51:51.690379",
     "exception": false,
     "start_time": "2020-10-23T12:51:51.600023",
     "status": "completed"
    },
    "tags": []
   },
   "outputs": [],
   "source": [
    "from wordcloud import WordCloud"
   ]
  },
  {
   "cell_type": "code",
   "execution_count": 28,
   "metadata": {
    "execution": {
     "iopub.execute_input": "2020-10-23T12:51:51.787296Z",
     "iopub.status.busy": "2020-10-23T12:51:51.786674Z",
     "iopub.status.idle": "2020-10-23T12:51:51.789559Z",
     "shell.execute_reply": "2020-10-23T12:51:51.789040Z"
    },
    "papermill": {
     "duration": 0.053335,
     "end_time": "2020-10-23T12:51:51.789675",
     "exception": false,
     "start_time": "2020-10-23T12:51:51.736340",
     "status": "completed"
    },
    "tags": []
   },
   "outputs": [],
   "source": [
    "sentences = tweets_train_df['tweet'].tolist()"
   ]
  },
  {
   "cell_type": "code",
   "execution_count": 29,
   "metadata": {
    "execution": {
     "iopub.execute_input": "2020-10-23T12:51:51.890108Z",
     "iopub.status.busy": "2020-10-23T12:51:51.889536Z",
     "iopub.status.idle": "2020-10-23T12:51:51.892354Z",
     "shell.execute_reply": "2020-10-23T12:51:51.892835Z"
    },
    "papermill": {
     "duration": 0.0527,
     "end_time": "2020-10-23T12:51:51.892962",
     "exception": false,
     "start_time": "2020-10-23T12:51:51.840262",
     "status": "completed"
    },
    "tags": []
   },
   "outputs": [],
   "source": [
    "#All tweets have been converted to a list sentences"
   ]
  },
  {
   "cell_type": "code",
   "execution_count": 30,
   "metadata": {
    "execution": {
     "iopub.execute_input": "2020-10-23T12:51:51.990814Z",
     "iopub.status.busy": "2020-10-23T12:51:51.990075Z",
     "iopub.status.idle": "2020-10-23T12:51:51.993915Z",
     "shell.execute_reply": "2020-10-23T12:51:51.993336Z"
    },
    "papermill": {
     "duration": 0.055216,
     "end_time": "2020-10-23T12:51:51.994018",
     "exception": false,
     "start_time": "2020-10-23T12:51:51.938802",
     "status": "completed"
    },
    "tags": []
   },
   "outputs": [
    {
     "data": {
      "text/plain": [
       "31962"
      ]
     },
     "execution_count": 30,
     "metadata": {},
     "output_type": "execute_result"
    }
   ],
   "source": [
    "len(sentences)"
   ]
  },
  {
   "cell_type": "code",
   "execution_count": 31,
   "metadata": {
    "execution": {
     "iopub.execute_input": "2020-10-23T12:51:52.096870Z",
     "iopub.status.busy": "2020-10-23T12:51:52.096258Z",
     "iopub.status.idle": "2020-10-23T12:51:52.099262Z",
     "shell.execute_reply": "2020-10-23T12:51:52.098710Z"
    },
    "papermill": {
     "duration": 0.058851,
     "end_time": "2020-10-23T12:51:52.099372",
     "exception": false,
     "start_time": "2020-10-23T12:51:52.040521",
     "status": "completed"
    },
    "tags": []
   },
   "outputs": [],
   "source": [
    "#Joining sentences (combining all the sentences that we have)\n",
    "sentences_as_single_string = \" \".join(sentences)"
   ]
  },
  {
   "cell_type": "code",
   "execution_count": 32,
   "metadata": {
    "execution": {
     "iopub.execute_input": "2020-10-23T12:51:52.399933Z",
     "iopub.status.busy": "2020-10-23T12:51:52.394860Z",
     "iopub.status.idle": "2020-10-23T12:51:55.073691Z",
     "shell.execute_reply": "2020-10-23T12:51:55.074153Z"
    },
    "papermill": {
     "duration": 2.927955,
     "end_time": "2020-10-23T12:51:55.074308",
     "exception": false,
     "start_time": "2020-10-23T12:51:52.146353",
     "status": "completed"
    },
    "tags": []
   },
   "outputs": [],
   "source": [
    "#plt.figure(figsize=(20,20))\n",
    "#plt.imshow(WordCloud().generate(sentences_as_single_string))"
   ]
  },
  {
   "cell_type": "code",
   "execution_count": 33,
   "metadata": {
    "execution": {
     "iopub.execute_input": "2020-10-23T12:51:55.312214Z",
     "iopub.status.busy": "2020-10-23T12:51:55.311595Z",
     "iopub.status.idle": "2020-10-23T12:51:55.314305Z",
     "shell.execute_reply": "2020-10-23T12:51:55.313642Z"
    },
    "papermill": {
     "duration": 0.066,
     "end_time": "2020-10-23T12:51:55.314419",
     "exception": false,
     "start_time": "2020-10-23T12:51:55.248419",
     "status": "completed"
    },
    "tags": []
   },
   "outputs": [],
   "source": [
    "# A wordcloud plot of negative words.\n",
    "#negative_sentences = negative['tweet'].tolist()\n",
    "#negative_string = \" \".join(negative_sentences)"
   ]
  },
  {
   "cell_type": "code",
   "execution_count": 34,
   "metadata": {
    "execution": {
     "iopub.execute_input": "2020-10-23T12:51:55.466661Z",
     "iopub.status.busy": "2020-10-23T12:51:55.461580Z",
     "iopub.status.idle": "2020-10-23T12:51:56.376968Z",
     "shell.execute_reply": "2020-10-23T12:51:56.377626Z"
    },
    "papermill": {
     "duration": 1.005088,
     "end_time": "2020-10-23T12:51:56.377797",
     "exception": false,
     "start_time": "2020-10-23T12:51:55.372709",
     "status": "completed"
    },
    "tags": []
   },
   "outputs": [],
   "source": [
    "#plt.figure(figsize=(20,20))\n",
    "#plt.imshow(WordCloud().generate(negative_string))"
   ]
  },
  {
   "cell_type": "markdown",
   "metadata": {
    "papermill": {
     "duration": 0.069776,
     "end_time": "2020-10-23T12:51:56.518374",
     "exception": false,
     "start_time": "2020-10-23T12:51:56.448598",
     "status": "completed"
    },
    "tags": []
   },
   "source": [
    "## Preprocessing - Data cleaning (Remove punctuations from text)"
   ]
  },
  {
   "cell_type": "code",
   "execution_count": 35,
   "metadata": {
    "execution": {
     "iopub.execute_input": "2020-10-23T12:51:56.662422Z",
     "iopub.status.busy": "2020-10-23T12:51:56.661608Z",
     "iopub.status.idle": "2020-10-23T12:51:56.666016Z",
     "shell.execute_reply": "2020-10-23T12:51:56.665528Z"
    },
    "papermill": {
     "duration": 0.078218,
     "end_time": "2020-10-23T12:51:56.666125",
     "exception": false,
     "start_time": "2020-10-23T12:51:56.587907",
     "status": "completed"
    },
    "tags": []
   },
   "outputs": [
    {
     "data": {
      "text/plain": [
       "'!\"#$%&\\'()*+,-./:;<=>?@[\\\\]^_`{|}~'"
      ]
     },
     "execution_count": 35,
     "metadata": {},
     "output_type": "execute_result"
    }
   ],
   "source": [
    "import string\n",
    "string.punctuation"
   ]
  },
  {
   "cell_type": "code",
   "execution_count": 36,
   "metadata": {
    "execution": {
     "iopub.execute_input": "2020-10-23T12:51:56.812160Z",
     "iopub.status.busy": "2020-10-23T12:51:56.811287Z",
     "iopub.status.idle": "2020-10-23T12:51:56.814311Z",
     "shell.execute_reply": "2020-10-23T12:51:56.813697Z"
    },
    "papermill": {
     "duration": 0.077409,
     "end_time": "2020-10-23T12:51:56.814420",
     "exception": false,
     "start_time": "2020-10-23T12:51:56.737011",
     "status": "completed"
    },
    "tags": []
   },
   "outputs": [],
   "source": [
    "sample = 'Hi! everyone :) ; enjoy learning real world example of NLP !.....'"
   ]
  },
  {
   "cell_type": "code",
   "execution_count": 37,
   "metadata": {
    "execution": {
     "iopub.execute_input": "2020-10-23T12:51:56.961551Z",
     "iopub.status.busy": "2020-10-23T12:51:56.960902Z",
     "iopub.status.idle": "2020-10-23T12:51:56.963068Z",
     "shell.execute_reply": "2020-10-23T12:51:56.963540Z"
    },
    "papermill": {
     "duration": 0.077807,
     "end_time": "2020-10-23T12:51:56.963666",
     "exception": false,
     "start_time": "2020-10-23T12:51:56.885859",
     "status": "completed"
    },
    "tags": []
   },
   "outputs": [],
   "source": [
    "sample_punc_removed = [char   for char in sample if char not in string.punctuation]"
   ]
  },
  {
   "cell_type": "code",
   "execution_count": 38,
   "metadata": {
    "execution": {
     "iopub.execute_input": "2020-10-23T12:51:57.151367Z",
     "iopub.status.busy": "2020-10-23T12:51:57.150486Z",
     "iopub.status.idle": "2020-10-23T12:51:57.153965Z",
     "shell.execute_reply": "2020-10-23T12:51:57.154457Z"
    },
    "papermill": {
     "duration": 0.080384,
     "end_time": "2020-10-23T12:51:57.154587",
     "exception": false,
     "start_time": "2020-10-23T12:51:57.074203",
     "status": "completed"
    },
    "tags": []
   },
   "outputs": [
    {
     "data": {
      "text/plain": [
       "['H',\n",
       " 'i',\n",
       " ' ',\n",
       " 'e',\n",
       " 'v',\n",
       " 'e',\n",
       " 'r',\n",
       " 'y',\n",
       " 'o',\n",
       " 'n',\n",
       " 'e',\n",
       " ' ',\n",
       " ' ',\n",
       " ' ',\n",
       " 'e',\n",
       " 'n',\n",
       " 'j',\n",
       " 'o',\n",
       " 'y',\n",
       " ' ',\n",
       " 'l',\n",
       " 'e',\n",
       " 'a',\n",
       " 'r',\n",
       " 'n',\n",
       " 'i',\n",
       " 'n',\n",
       " 'g',\n",
       " ' ',\n",
       " 'r',\n",
       " 'e',\n",
       " 'a',\n",
       " 'l',\n",
       " ' ',\n",
       " 'w',\n",
       " 'o',\n",
       " 'r',\n",
       " 'l',\n",
       " 'd',\n",
       " ' ',\n",
       " 'e',\n",
       " 'x',\n",
       " 'a',\n",
       " 'm',\n",
       " 'p',\n",
       " 'l',\n",
       " 'e',\n",
       " ' ',\n",
       " 'o',\n",
       " 'f',\n",
       " ' ',\n",
       " 'N',\n",
       " 'L',\n",
       " 'P',\n",
       " ' ']"
      ]
     },
     "execution_count": 38,
     "metadata": {},
     "output_type": "execute_result"
    }
   ],
   "source": [
    "sample_punc_removed"
   ]
  },
  {
   "cell_type": "code",
   "execution_count": 39,
   "metadata": {
    "execution": {
     "iopub.execute_input": "2020-10-23T12:51:57.302290Z",
     "iopub.status.busy": "2020-10-23T12:51:57.301551Z",
     "iopub.status.idle": "2020-10-23T12:51:57.304849Z",
     "shell.execute_reply": "2020-10-23T12:51:57.305349Z"
    },
    "papermill": {
     "duration": 0.079775,
     "end_time": "2020-10-23T12:51:57.305479",
     "exception": false,
     "start_time": "2020-10-23T12:51:57.225704",
     "status": "completed"
    },
    "tags": []
   },
   "outputs": [
    {
     "data": {
      "text/plain": [
       "'Hi everyone   enjoy learning real world example of NLP '"
      ]
     },
     "execution_count": 39,
     "metadata": {},
     "output_type": "execute_result"
    }
   ],
   "source": [
    "#Now join again\n",
    "test_punc_removed_string = ''.join(sample_punc_removed)\n",
    "test_punc_removed_string"
   ]
  },
  {
   "cell_type": "code",
   "execution_count": 40,
   "metadata": {
    "execution": {
     "iopub.execute_input": "2020-10-23T12:51:57.453746Z",
     "iopub.status.busy": "2020-10-23T12:51:57.452905Z",
     "iopub.status.idle": "2020-10-23T12:51:57.456771Z",
     "shell.execute_reply": "2020-10-23T12:51:57.457199Z"
    },
    "papermill": {
     "duration": 0.08087,
     "end_time": "2020-10-23T12:51:57.457342",
     "exception": false,
     "start_time": "2020-10-23T12:51:57.376472",
     "status": "completed"
    },
    "tags": []
   },
   "outputs": [
    {
     "data": {
      "text/plain": [
       "'Hi everyone   enjoy learning real world example of NLP '"
      ]
     },
     "execution_count": 40,
     "metadata": {},
     "output_type": "execute_result"
    }
   ],
   "source": [
    "# Second and efficient method\n",
    "out = sample.translate(str.maketrans('', '', string.punctuation))\n",
    "out"
   ]
  },
  {
   "cell_type": "code",
   "execution_count": 41,
   "metadata": {
    "execution": {
     "iopub.execute_input": "2020-10-23T12:51:57.607232Z",
     "iopub.status.busy": "2020-10-23T12:51:57.606336Z",
     "iopub.status.idle": "2020-10-23T12:51:57.610152Z",
     "shell.execute_reply": "2020-10-23T12:51:57.609682Z"
    },
    "papermill": {
     "duration": 0.081297,
     "end_time": "2020-10-23T12:51:57.610285",
     "exception": false,
     "start_time": "2020-10-23T12:51:57.528988",
     "status": "completed"
    },
    "tags": []
   },
   "outputs": [
    {
     "data": {
      "text/plain": [
       "'Hi everyone   enjoy learning real world example of NLP '"
      ]
     },
     "execution_count": 41,
     "metadata": {},
     "output_type": "execute_result"
    }
   ],
   "source": [
    "# Third and basic method\n",
    "punc_removed = []\n",
    "for char in sample:\n",
    "    if char not in string.punctuation:\n",
    "        punc_removed.append(char)\n",
    "        \n",
    "punc_removed_join = ''.join(punc_removed)\n",
    "punc_removed_join"
   ]
  },
  {
   "cell_type": "markdown",
   "metadata": {
    "papermill": {
     "duration": 0.071739,
     "end_time": "2020-10-23T12:51:57.753851",
     "exception": false,
     "start_time": "2020-10-23T12:51:57.682112",
     "status": "completed"
    },
    "tags": []
   },
   "source": [
    "## Preprocessing - Data cleaning (Remove StopWords from text)"
   ]
  },
  {
   "cell_type": "code",
   "execution_count": 42,
   "metadata": {
    "execution": {
     "iopub.execute_input": "2020-10-23T12:51:57.914647Z",
     "iopub.status.busy": "2020-10-23T12:51:57.913864Z",
     "iopub.status.idle": "2020-10-23T12:51:59.031169Z",
     "shell.execute_reply": "2020-10-23T12:51:59.030689Z"
    },
    "papermill": {
     "duration": 1.205137,
     "end_time": "2020-10-23T12:51:59.031303",
     "exception": false,
     "start_time": "2020-10-23T12:51:57.826166",
     "status": "completed"
    },
    "tags": []
   },
   "outputs": [
    {
     "name": "stderr",
     "output_type": "stream",
     "text": [
      "[nltk_data] Downloading package stopwords to\n",
      "[nltk_data]     C:\\Users\\Muskaan\\AppData\\Roaming\\nltk_data...\n",
      "[nltk_data]   Package stopwords is already up-to-date!\n"
     ]
    },
    {
     "data": {
      "text/plain": [
       "True"
      ]
     },
     "execution_count": 42,
     "metadata": {},
     "output_type": "execute_result"
    }
   ],
   "source": [
    "# Downloading stopwords and plotting them using Natural languae toolkit\n",
    "import nltk \n",
    "nltk.download('stopwords')"
   ]
  },
  {
   "cell_type": "code",
   "execution_count": 43,
   "metadata": {
    "execution": {
     "iopub.execute_input": "2020-10-23T12:51:59.183575Z",
     "iopub.status.busy": "2020-10-23T12:51:59.182913Z",
     "iopub.status.idle": "2020-10-23T12:51:59.191777Z",
     "shell.execute_reply": "2020-10-23T12:51:59.191239Z"
    },
    "papermill": {
     "duration": 0.087354,
     "end_time": "2020-10-23T12:51:59.191882",
     "exception": false,
     "start_time": "2020-10-23T12:51:59.104528",
     "status": "completed"
    },
    "tags": []
   },
   "outputs": [
    {
     "data": {
      "text/plain": [
       "['i',\n",
       " 'me',\n",
       " 'my',\n",
       " 'myself',\n",
       " 'we',\n",
       " 'our',\n",
       " 'ours',\n",
       " 'ourselves',\n",
       " 'you',\n",
       " \"you're\",\n",
       " \"you've\",\n",
       " \"you'll\",\n",
       " \"you'd\",\n",
       " 'your',\n",
       " 'yours',\n",
       " 'yourself',\n",
       " 'yourselves',\n",
       " 'he',\n",
       " 'him',\n",
       " 'his',\n",
       " 'himself',\n",
       " 'she',\n",
       " \"she's\",\n",
       " 'her',\n",
       " 'hers',\n",
       " 'herself',\n",
       " 'it',\n",
       " \"it's\",\n",
       " 'its',\n",
       " 'itself',\n",
       " 'they',\n",
       " 'them',\n",
       " 'their',\n",
       " 'theirs',\n",
       " 'themselves',\n",
       " 'what',\n",
       " 'which',\n",
       " 'who',\n",
       " 'whom',\n",
       " 'this',\n",
       " 'that',\n",
       " \"that'll\",\n",
       " 'these',\n",
       " 'those',\n",
       " 'am',\n",
       " 'is',\n",
       " 'are',\n",
       " 'was',\n",
       " 'were',\n",
       " 'be',\n",
       " 'been',\n",
       " 'being',\n",
       " 'have',\n",
       " 'has',\n",
       " 'had',\n",
       " 'having',\n",
       " 'do',\n",
       " 'does',\n",
       " 'did',\n",
       " 'doing',\n",
       " 'a',\n",
       " 'an',\n",
       " 'the',\n",
       " 'and',\n",
       " 'but',\n",
       " 'if',\n",
       " 'or',\n",
       " 'because',\n",
       " 'as',\n",
       " 'until',\n",
       " 'while',\n",
       " 'of',\n",
       " 'at',\n",
       " 'by',\n",
       " 'for',\n",
       " 'with',\n",
       " 'about',\n",
       " 'against',\n",
       " 'between',\n",
       " 'into',\n",
       " 'through',\n",
       " 'during',\n",
       " 'before',\n",
       " 'after',\n",
       " 'above',\n",
       " 'below',\n",
       " 'to',\n",
       " 'from',\n",
       " 'up',\n",
       " 'down',\n",
       " 'in',\n",
       " 'out',\n",
       " 'on',\n",
       " 'off',\n",
       " 'over',\n",
       " 'under',\n",
       " 'again',\n",
       " 'further',\n",
       " 'then',\n",
       " 'once',\n",
       " 'here',\n",
       " 'there',\n",
       " 'when',\n",
       " 'where',\n",
       " 'why',\n",
       " 'how',\n",
       " 'all',\n",
       " 'any',\n",
       " 'both',\n",
       " 'each',\n",
       " 'few',\n",
       " 'more',\n",
       " 'most',\n",
       " 'other',\n",
       " 'some',\n",
       " 'such',\n",
       " 'no',\n",
       " 'nor',\n",
       " 'not',\n",
       " 'only',\n",
       " 'own',\n",
       " 'same',\n",
       " 'so',\n",
       " 'than',\n",
       " 'too',\n",
       " 'very',\n",
       " 's',\n",
       " 't',\n",
       " 'can',\n",
       " 'will',\n",
       " 'just',\n",
       " 'don',\n",
       " \"don't\",\n",
       " 'should',\n",
       " \"should've\",\n",
       " 'now',\n",
       " 'd',\n",
       " 'll',\n",
       " 'm',\n",
       " 'o',\n",
       " 're',\n",
       " 've',\n",
       " 'y',\n",
       " 'ain',\n",
       " 'aren',\n",
       " \"aren't\",\n",
       " 'couldn',\n",
       " \"couldn't\",\n",
       " 'didn',\n",
       " \"didn't\",\n",
       " 'doesn',\n",
       " \"doesn't\",\n",
       " 'hadn',\n",
       " \"hadn't\",\n",
       " 'hasn',\n",
       " \"hasn't\",\n",
       " 'haven',\n",
       " \"haven't\",\n",
       " 'isn',\n",
       " \"isn't\",\n",
       " 'ma',\n",
       " 'mightn',\n",
       " \"mightn't\",\n",
       " 'mustn',\n",
       " \"mustn't\",\n",
       " 'needn',\n",
       " \"needn't\",\n",
       " 'shan',\n",
       " \"shan't\",\n",
       " 'shouldn',\n",
       " \"shouldn't\",\n",
       " 'wasn',\n",
       " \"wasn't\",\n",
       " 'weren',\n",
       " \"weren't\",\n",
       " 'won',\n",
       " \"won't\",\n",
       " 'wouldn',\n",
       " \"wouldn't\"]"
      ]
     },
     "execution_count": 43,
     "metadata": {},
     "output_type": "execute_result"
    }
   ],
   "source": [
    "#Stop words that don't convey any specific information\n",
    "from nltk.corpus import stopwords\n",
    "stopwords.words('english')"
   ]
  },
  {
   "cell_type": "code",
   "execution_count": 44,
   "metadata": {
    "execution": {
     "iopub.execute_input": "2020-10-23T12:51:59.346277Z",
     "iopub.status.busy": "2020-10-23T12:51:59.345305Z",
     "iopub.status.idle": "2020-10-23T12:51:59.350482Z",
     "shell.execute_reply": "2020-10-23T12:51:59.349852Z"
    },
    "papermill": {
     "duration": 0.084629,
     "end_time": "2020-10-23T12:51:59.350605",
     "exception": false,
     "start_time": "2020-10-23T12:51:59.265976",
     "status": "completed"
    },
    "tags": []
   },
   "outputs": [],
   "source": [
    "# Removing common words and retaining only unique words\n",
    "test_punc_removed_string_clean = [word for word in test_punc_removed_string.split() if word.lower() not in stopwords.words('english')]"
   ]
  },
  {
   "cell_type": "code",
   "execution_count": 45,
   "metadata": {
    "execution": {
     "iopub.execute_input": "2020-10-23T12:51:59.503223Z",
     "iopub.status.busy": "2020-10-23T12:51:59.502446Z",
     "iopub.status.idle": "2020-10-23T12:51:59.506529Z",
     "shell.execute_reply": "2020-10-23T12:51:59.506047Z"
    },
    "papermill": {
     "duration": 0.082047,
     "end_time": "2020-10-23T12:51:59.506637",
     "exception": false,
     "start_time": "2020-10-23T12:51:59.424590",
     "status": "completed"
    },
    "tags": []
   },
   "outputs": [
    {
     "data": {
      "text/plain": [
       "['Hi', 'everyone', 'enjoy', 'learning', 'real', 'world', 'example', 'NLP']"
      ]
     },
     "execution_count": 45,
     "metadata": {},
     "output_type": "execute_result"
    }
   ],
   "source": [
    "test_punc_removed_string_clean\n",
    "#sample sentence was: Hi! everyone :) ; enjoy learning real world example of NLP !....."
   ]
  },
  {
   "cell_type": "code",
   "execution_count": 46,
   "metadata": {
    "execution": {
     "iopub.execute_input": "2020-10-23T12:51:59.659958Z",
     "iopub.status.busy": "2020-10-23T12:51:59.659090Z",
     "iopub.status.idle": "2020-10-23T12:51:59.661942Z",
     "shell.execute_reply": "2020-10-23T12:51:59.661333Z"
    },
    "papermill": {
     "duration": 0.080977,
     "end_time": "2020-10-23T12:51:59.662050",
     "exception": false,
     "start_time": "2020-10-23T12:51:59.581073",
     "status": "completed"
    },
    "tags": []
   },
   "outputs": [],
   "source": [
    "# Lets see an example of removal of punctuation and stopwords\n",
    "test_sample = 'A sample to learn,; that how can we remove punctuations and stopwords in a pipeline fashion!!!'\n"
   ]
  },
  {
   "cell_type": "code",
   "execution_count": 47,
   "metadata": {
    "execution": {
     "iopub.execute_input": "2020-10-23T12:51:59.816530Z",
     "iopub.status.busy": "2020-10-23T12:51:59.815852Z",
     "iopub.status.idle": "2020-10-23T12:51:59.823514Z",
     "shell.execute_reply": "2020-10-23T12:51:59.822909Z"
    },
    "papermill": {
     "duration": 0.087005,
     "end_time": "2020-10-23T12:51:59.823621",
     "exception": false,
     "start_time": "2020-10-23T12:51:59.736616",
     "status": "completed"
    },
    "tags": []
   },
   "outputs": [
    {
     "data": {
      "text/plain": [
       "['sample',\n",
       " 'learn',\n",
       " 'remove',\n",
       " 'punctuations',\n",
       " 'stopwords',\n",
       " 'pipeline',\n",
       " 'fashion']"
      ]
     },
     "execution_count": 47,
     "metadata": {},
     "output_type": "execute_result"
    }
   ],
   "source": [
    "pipe_punc_removed_cleaned = [char for char in test_sample if char not in string.punctuation]\n",
    "pipe_punc_removed_cleaned = ''.join(pipe_punc_removed_cleaned)\n",
    "pipe_punc_removed_cleaned = [word for word in pipe_punc_removed_cleaned.split() if word.lower() not in stopwords.words('english')]\n",
    "pipe_punc_removed_cleaned"
   ]
  },
  {
   "cell_type": "markdown",
   "metadata": {
    "papermill": {
     "duration": 0.075153,
     "end_time": "2020-10-23T12:51:59.981832",
     "exception": false,
     "start_time": "2020-10-23T12:51:59.906679",
     "status": "completed"
    },
    "tags": []
   },
   "source": [
    "## Feature Extraction - Count Vectorization (Tokenization)"
   ]
  },
  {
   "cell_type": "code",
   "execution_count": 48,
   "metadata": {
    "execution": {
     "iopub.execute_input": "2020-10-23T12:52:00.137377Z",
     "iopub.status.busy": "2020-10-23T12:52:00.136713Z",
     "iopub.status.idle": "2020-10-23T12:52:00.139670Z",
     "shell.execute_reply": "2020-10-23T12:52:00.139004Z"
    },
    "papermill": {
     "duration": 0.082653,
     "end_time": "2020-10-23T12:52:00.139802",
     "exception": false,
     "start_time": "2020-10-23T12:52:00.057149",
     "status": "completed"
    },
    "tags": []
   },
   "outputs": [],
   "source": [
    "# This will take unique words utilized in text as features, and then count that how many time each word is utilized in that sentence. \n",
    "from sklearn.feature_extraction.text import CountVectorizer\n",
    "sample_new = ['This is first method.', 'This method is the second method.', 'This new one is the third one.' ]"
   ]
  },
  {
   "cell_type": "code",
   "execution_count": 49,
   "metadata": {
    "execution": {
     "iopub.execute_input": "2020-10-23T12:52:00.401410Z",
     "iopub.status.busy": "2020-10-23T12:52:00.400732Z",
     "iopub.status.idle": "2020-10-23T12:52:00.403824Z",
     "shell.execute_reply": "2020-10-23T12:52:00.403171Z"
    },
    "papermill": {
     "duration": 0.087547,
     "end_time": "2020-10-23T12:52:00.403940",
     "exception": false,
     "start_time": "2020-10-23T12:52:00.316393",
     "status": "completed"
    },
    "tags": []
   },
   "outputs": [],
   "source": [
    "vectorizer = CountVectorizer()\n",
    "X = vectorizer.fit_transform(sample_new)"
   ]
  },
  {
   "cell_type": "code",
   "execution_count": 50,
   "metadata": {
    "execution": {
     "iopub.execute_input": "2020-10-23T12:52:00.559172Z",
     "iopub.status.busy": "2020-10-23T12:52:00.558502Z",
     "iopub.status.idle": "2020-10-23T12:52:00.562417Z",
     "shell.execute_reply": "2020-10-23T12:52:00.561608Z"
    },
    "papermill": {
     "duration": 0.083512,
     "end_time": "2020-10-23T12:52:00.562555",
     "exception": false,
     "start_time": "2020-10-23T12:52:00.479043",
     "status": "completed"
    },
    "tags": []
   },
   "outputs": [
    {
     "name": "stdout",
     "output_type": "stream",
     "text": [
      "['first', 'is', 'method', 'new', 'one', 'second', 'the', 'third', 'this']\n"
     ]
    },
    {
     "name": "stderr",
     "output_type": "stream",
     "text": [
      "C:\\Users\\Muskaan\\AppData\\Local\\Programs\\Python\\Python37\\lib\\site-packages\\sklearn\\utils\\deprecation.py:87: FutureWarning: Function get_feature_names is deprecated; get_feature_names is deprecated in 1.0 and will be removed in 1.2. Please use get_feature_names_out instead.\n",
      "  warnings.warn(msg, category=FutureWarning)\n"
     ]
    }
   ],
   "source": [
    "#Lets see the extracted feature names (unique words)\n",
    "print (vectorizer.get_feature_names())"
   ]
  },
  {
   "cell_type": "code",
   "execution_count": 72,
   "metadata": {
    "execution": {
     "iopub.execute_input": "2020-10-23T12:52:00.721698Z",
     "iopub.status.busy": "2020-10-23T12:52:00.720936Z",
     "iopub.status.idle": "2020-10-23T12:52:00.724534Z",
     "shell.execute_reply": "2020-10-23T12:52:00.723892Z"
    },
    "papermill": {
     "duration": 0.085601,
     "end_time": "2020-10-23T12:52:00.724645",
     "exception": false,
     "start_time": "2020-10-23T12:52:00.639044",
     "status": "completed"
    },
    "tags": []
   },
   "outputs": [
    {
     "data": {
      "text/plain": [
       "<3x9 sparse matrix of type '<class 'numpy.int64'>'\n",
       "\twith 15 stored elements in Compressed Sparse Row format>"
      ]
     },
     "execution_count": 72,
     "metadata": {},
     "output_type": "execute_result"
    }
   ],
   "source": [
    "X"
   ]
  },
  {
   "cell_type": "code",
   "execution_count": 52,
   "metadata": {
    "execution": {
     "iopub.execute_input": "2020-10-23T12:52:00.881798Z",
     "iopub.status.busy": "2020-10-23T12:52:00.881115Z",
     "iopub.status.idle": "2020-10-23T12:52:00.884689Z",
     "shell.execute_reply": "2020-10-23T12:52:00.883871Z"
    },
    "papermill": {
     "duration": 0.083993,
     "end_time": "2020-10-23T12:52:00.884803",
     "exception": false,
     "start_time": "2020-10-23T12:52:00.800810",
     "status": "completed"
    },
    "tags": []
   },
   "outputs": [
    {
     "name": "stdout",
     "output_type": "stream",
     "text": [
      "[[1 1 1 0 0 0 0 0 1]\n",
      " [0 1 2 0 0 1 1 0 1]\n",
      " [0 1 0 1 2 0 1 1 1]]\n"
     ]
    }
   ],
   "source": [
    "#We can see that in first sentence, only four features (unique words) are present there (first three and last feature).\n",
    "#In second sentence of sample_new, word method is repeated two times, so we can see 2 at corresponding feature position\n",
    "print(X.toarray())"
   ]
  },
  {
   "cell_type": "code",
   "execution_count": 53,
   "metadata": {
    "execution": {
     "iopub.execute_input": "2020-10-23T12:52:01.044451Z",
     "iopub.status.busy": "2020-10-23T12:52:01.043663Z",
     "iopub.status.idle": "2020-10-23T12:52:01.046748Z",
     "shell.execute_reply": "2020-10-23T12:52:01.047483Z"
    },
    "papermill": {
     "duration": 0.085956,
     "end_time": "2020-10-23T12:52:01.047697",
     "exception": false,
     "start_time": "2020-10-23T12:52:00.961741",
     "status": "completed"
    },
    "tags": []
   },
   "outputs": [
    {
     "name": "stdout",
     "output_type": "stream",
     "text": [
      "[[1 1]\n",
      " [2 1]\n",
      " [1 3]]\n"
     ]
    }
   ],
   "source": [
    "# We can see with following example that Countvectroizer always convert each character to lower case before transforming.\n",
    "second_sample = ['Hello World.', 'Hello Hello World', 'Hello World world world']\n",
    "XX = vectorizer.fit_transform(second_sample)\n",
    "print(XX.toarray())"
   ]
  },
  {
   "cell_type": "markdown",
   "metadata": {
    "papermill": {
     "duration": 0.077253,
     "end_time": "2020-10-23T12:52:01.202283",
     "exception": false,
     "start_time": "2020-10-23T12:52:01.125030",
     "status": "completed"
    },
    "tags": []
   },
   "source": [
    "## Now removing punctuations, removing stopwords and performing Tockenization on tweets in the dataset"
   ]
  },
  {
   "cell_type": "code",
   "execution_count": 54,
   "metadata": {
    "execution": {
     "iopub.execute_input": "2020-10-23T12:52:01.363090Z",
     "iopub.status.busy": "2020-10-23T12:52:01.362145Z",
     "iopub.status.idle": "2020-10-23T12:52:01.365071Z",
     "shell.execute_reply": "2020-10-23T12:52:01.364609Z"
    },
    "papermill": {
     "duration": 0.085807,
     "end_time": "2020-10-23T12:52:01.365213",
     "exception": false,
     "start_time": "2020-10-23T12:52:01.279406",
     "status": "completed"
    },
    "tags": []
   },
   "outputs": [],
   "source": [
    "def text_cleaning(text):\n",
    "    remv_punc = [char for char in text.lower() if char not in string.punctuation]\n",
    "    remv_punc_join = ''.join(remv_punc)\n",
    "    remv_punc_clean = [word for word in remv_punc_join.split() if word.lower() not in stopwords.words('english')]\n",
    "    return remv_punc_clean"
   ]
  },
  {
   "cell_type": "code",
   "execution_count": 55,
   "metadata": {
    "execution": {
     "iopub.execute_input": "2020-10-23T12:52:01.524756Z",
     "iopub.status.busy": "2020-10-23T12:52:01.524012Z",
     "iopub.status.idle": "2020-10-23T12:52:52.358795Z",
     "shell.execute_reply": "2020-10-23T12:52:52.359607Z"
    },
    "papermill": {
     "duration": 50.917051,
     "end_time": "2020-10-23T12:52:52.359808",
     "exception": false,
     "start_time": "2020-10-23T12:52:01.442757",
     "status": "completed"
    },
    "tags": []
   },
   "outputs": [
    {
     "name": "stdout",
     "output_type": "stream",
     "text": [
      "['22', 'huge', 'fan', 'fare', 'big', 'talking', 'leave', 'chaos', 'pay', 'disputes', 'get', 'allshowandnogo']\n"
     ]
    }
   ],
   "source": [
    "#Lets visualize the newly created function\n",
    "tweets_df_clean = tweets_train_df['tweet'].apply(text_cleaning)\n",
    "print(tweets_df_clean[5])"
   ]
  },
  {
   "cell_type": "code",
   "execution_count": 56,
   "metadata": {
    "execution": {
     "iopub.execute_input": "2020-10-23T12:52:52.532479Z",
     "iopub.status.busy": "2020-10-23T12:52:52.531588Z",
     "iopub.status.idle": "2020-10-23T12:52:52.536014Z",
     "shell.execute_reply": "2020-10-23T12:52:52.535501Z"
    },
    "papermill": {
     "duration": 0.087349,
     "end_time": "2020-10-23T12:52:52.536115",
     "exception": false,
     "start_time": "2020-10-23T12:52:52.448766",
     "status": "completed"
    },
    "tags": []
   },
   "outputs": [
    {
     "data": {
      "text/plain": [
       "'[2/2] huge fan fare and big talking before they leave. chaos and pay disputes when they get there. #allshowandnogo  '"
      ]
     },
     "execution_count": 56,
     "metadata": {},
     "output_type": "execute_result"
    }
   ],
   "source": [
    "#we have removed all punctuations and stopwords using a single user defined function\n",
    "tweets_train_df['tweet'][5]"
   ]
  },
  {
   "cell_type": "code",
   "execution_count": 57,
   "metadata": {
    "execution": {
     "iopub.execute_input": "2020-10-23T12:52:52.699736Z",
     "iopub.status.busy": "2020-10-23T12:52:52.699051Z",
     "iopub.status.idle": "2020-10-23T12:53:45.921708Z",
     "shell.execute_reply": "2020-10-23T12:53:45.922213Z"
    },
    "papermill": {
     "duration": 53.3079,
     "end_time": "2020-10-23T12:53:45.922380",
     "exception": false,
     "start_time": "2020-10-23T12:52:52.614480",
     "status": "completed"
    },
    "tags": []
   },
   "outputs": [],
   "source": [
    "# Now we will use \"analyser\" to apply countvectorization; a preprocess step before applying countVectorization step.\n",
    "vectorizer_analyzer = CountVectorizer(analyzer = text_cleaning)\n",
    "countvectorizer_tweets = CountVectorizer(analyzer= text_cleaning, dtype= 'uint8').fit_transform(tweets_train_df['tweet']).toarray()"
   ]
  },
  {
   "cell_type": "code",
   "execution_count": 58,
   "metadata": {
    "execution": {
     "iopub.execute_input": "2020-10-23T12:53:46.083682Z",
     "iopub.status.busy": "2020-10-23T12:53:46.082773Z",
     "iopub.status.idle": "2020-10-23T12:53:46.086367Z",
     "shell.execute_reply": "2020-10-23T12:53:46.085759Z"
    },
    "papermill": {
     "duration": 0.086218,
     "end_time": "2020-10-23T12:53:46.086475",
     "exception": false,
     "start_time": "2020-10-23T12:53:46.000257",
     "status": "completed"
    },
    "tags": []
   },
   "outputs": [
    {
     "data": {
      "text/plain": [
       "(31962, 47385)"
      ]
     },
     "execution_count": 58,
     "metadata": {},
     "output_type": "execute_result"
    }
   ],
   "source": [
    "countvectorizer_tweets.shape"
   ]
  },
  {
   "cell_type": "code",
   "execution_count": 59,
   "metadata": {
    "execution": {
     "iopub.execute_input": "2020-10-23T12:53:46.247760Z",
     "iopub.status.busy": "2020-10-23T12:53:46.247068Z",
     "iopub.status.idle": "2020-10-23T12:53:46.249551Z",
     "shell.execute_reply": "2020-10-23T12:53:46.248935Z"
    },
    "papermill": {
     "duration": 0.084672,
     "end_time": "2020-10-23T12:53:46.249661",
     "exception": false,
     "start_time": "2020-10-23T12:53:46.164989",
     "status": "completed"
    },
    "tags": []
   },
   "outputs": [],
   "source": [
    "X_features = countvectorizer_tweets\n",
    "y_label = tweets_train_df['label']"
   ]
  },
  {
   "cell_type": "markdown",
   "metadata": {
    "papermill": {
     "duration": 0.078472,
     "end_time": "2020-10-23T12:53:46.406553",
     "exception": false,
     "start_time": "2020-10-23T12:53:46.328081",
     "status": "completed"
    },
    "tags": []
   },
   "source": [
    "## Now we will train a Naive Bayes Classifier Model"
   ]
  },
  {
   "cell_type": "code",
   "execution_count": 60,
   "metadata": {
    "execution": {
     "iopub.execute_input": "2020-10-23T12:53:46.567343Z",
     "iopub.status.busy": "2020-10-23T12:53:46.566631Z",
     "iopub.status.idle": "2020-10-23T12:53:46.570391Z",
     "shell.execute_reply": "2020-10-23T12:53:46.569918Z"
    },
    "papermill": {
     "duration": 0.08577,
     "end_time": "2020-10-23T12:53:46.570497",
     "exception": false,
     "start_time": "2020-10-23T12:53:46.484727",
     "status": "completed"
    },
    "tags": []
   },
   "outputs": [
    {
     "data": {
      "text/plain": [
       "(31962, 47385)"
      ]
     },
     "execution_count": 60,
     "metadata": {},
     "output_type": "execute_result"
    }
   ],
   "source": [
    "X_features.shape"
   ]
  },
  {
   "cell_type": "code",
   "execution_count": 61,
   "metadata": {
    "execution": {
     "iopub.execute_input": "2020-10-23T12:53:46.731162Z",
     "iopub.status.busy": "2020-10-23T12:53:46.730442Z",
     "iopub.status.idle": "2020-10-23T12:53:46.734396Z",
     "shell.execute_reply": "2020-10-23T12:53:46.733907Z"
    },
    "papermill": {
     "duration": 0.086151,
     "end_time": "2020-10-23T12:53:46.734498",
     "exception": false,
     "start_time": "2020-10-23T12:53:46.648347",
     "status": "completed"
    },
    "tags": []
   },
   "outputs": [
    {
     "data": {
      "text/plain": [
       "(31962,)"
      ]
     },
     "execution_count": 61,
     "metadata": {},
     "output_type": "execute_result"
    }
   ],
   "source": [
    "y_label.shape"
   ]
  },
  {
   "cell_type": "code",
   "execution_count": 62,
   "metadata": {
    "execution": {
     "iopub.execute_input": "2020-10-23T12:53:46.897129Z",
     "iopub.status.busy": "2020-10-23T12:53:46.896144Z",
     "iopub.status.idle": "2020-10-23T12:53:47.892932Z",
     "shell.execute_reply": "2020-10-23T12:53:47.892378Z"
    },
    "papermill": {
     "duration": 1.080211,
     "end_time": "2020-10-23T12:53:47.893042",
     "exception": false,
     "start_time": "2020-10-23T12:53:46.812831",
     "status": "completed"
    },
    "tags": []
   },
   "outputs": [],
   "source": [
    "from sklearn.model_selection import train_test_split\n",
    "X_train, X_test, y_train, y_test = train_test_split(X_features, y_label, test_size = 0.2, random_state = 1)"
   ]
  },
  {
   "cell_type": "code",
   "execution_count": 63,
   "metadata": {},
   "outputs": [
    {
     "data": {
      "text/plain": [
       "array([[0, 0, 0, ..., 0, 0, 0],\n",
       "       [0, 0, 0, ..., 0, 0, 0],\n",
       "       [0, 0, 0, ..., 0, 0, 0],\n",
       "       ...,\n",
       "       [0, 0, 0, ..., 0, 0, 0],\n",
       "       [0, 0, 0, ..., 0, 0, 0],\n",
       "       [0, 0, 0, ..., 0, 0, 0]], dtype=uint8)"
      ]
     },
     "execution_count": 63,
     "metadata": {},
     "output_type": "execute_result"
    }
   ],
   "source": [
    "X_test"
   ]
  },
  {
   "cell_type": "code",
   "execution_count": 64,
   "metadata": {
    "execution": {
     "iopub.execute_input": "2020-10-23T12:53:48.055814Z",
     "iopub.status.busy": "2020-10-23T12:53:48.055214Z",
     "iopub.status.idle": "2020-10-23T12:54:09.607518Z",
     "shell.execute_reply": "2020-10-23T12:54:09.606898Z"
    },
    "papermill": {
     "duration": 21.635452,
     "end_time": "2020-10-23T12:54:09.607650",
     "exception": false,
     "start_time": "2020-10-23T12:53:47.972198",
     "status": "completed"
    },
    "tags": []
   },
   "outputs": [
    {
     "data": {
      "text/plain": [
       "MultinomialNB()"
      ]
     },
     "execution_count": 64,
     "metadata": {},
     "output_type": "execute_result"
    }
   ],
   "source": [
    "from sklearn.naive_bayes import MultinomialNB\n",
    "NaiveBclassifier = MultinomialNB()\n",
    "NaiveBclassifier.fit(X_train,y_train)"
   ]
  },
  {
   "cell_type": "markdown",
   "metadata": {
    "papermill": {
     "duration": 0.078875,
     "end_time": "2020-10-23T12:54:09.765635",
     "exception": false,
     "start_time": "2020-10-23T12:54:09.686760",
     "status": "completed"
    },
    "tags": []
   },
   "source": [
    "## Evaluation Phase - Analyzing the model performance"
   ]
  },
  {
   "cell_type": "code",
   "execution_count": 65,
   "metadata": {
    "execution": {
     "iopub.execute_input": "2020-10-23T12:54:09.928575Z",
     "iopub.status.busy": "2020-10-23T12:54:09.927782Z",
     "iopub.status.idle": "2020-10-23T12:54:09.930724Z",
     "shell.execute_reply": "2020-10-23T12:54:09.930101Z"
    },
    "papermill": {
     "duration": 0.08618,
     "end_time": "2020-10-23T12:54:09.930828",
     "exception": false,
     "start_time": "2020-10-23T12:54:09.844648",
     "status": "completed"
    },
    "tags": []
   },
   "outputs": [],
   "source": [
    "from sklearn.metrics import classification_report, confusion_matrix"
   ]
  },
  {
   "cell_type": "code",
   "execution_count": 66,
   "metadata": {
    "execution": {
     "iopub.execute_input": "2020-10-23T12:54:10.094291Z",
     "iopub.status.busy": "2020-10-23T12:54:10.093625Z",
     "iopub.status.idle": "2020-10-23T12:54:10.885097Z",
     "shell.execute_reply": "2020-10-23T12:54:10.884412Z"
    },
    "papermill": {
     "duration": 0.874749,
     "end_time": "2020-10-23T12:54:10.885257",
     "exception": false,
     "start_time": "2020-10-23T12:54:10.010508",
     "status": "completed"
    },
    "tags": []
   },
   "outputs": [],
   "source": [
    "# Predicting test cases\n",
    "y_pred_test = NaiveBclassifier.predict(X_test)"
   ]
  },
  {
   "cell_type": "code",
   "execution_count": 67,
   "metadata": {
    "execution": {
     "iopub.execute_input": "2020-10-23T12:54:11.055087Z",
     "iopub.status.busy": "2020-10-23T12:54:11.054284Z",
     "iopub.status.idle": "2020-10-23T12:54:11.204482Z",
     "shell.execute_reply": "2020-10-23T12:54:11.203825Z"
    },
    "papermill": {
     "duration": 0.234674,
     "end_time": "2020-10-23T12:54:11.204598",
     "exception": false,
     "start_time": "2020-10-23T12:54:10.969924",
     "status": "completed"
    },
    "tags": []
   },
   "outputs": [
    {
     "data": {
      "text/plain": [
       "<AxesSubplot:>"
      ]
     },
     "execution_count": 67,
     "metadata": {},
     "output_type": "execute_result"
    },
    {
     "data": {
      "image/png": "[encoded data removed]",
      "text/plain": [
       "<Figure size 432x288 with 2 Axes>"
      ]
     },
     "metadata": {
      "needs_background": "light"
     },
     "output_type": "display_data"
    }
   ],
   "source": [
    "# Confusion matrix\n",
    "cm = confusion_matrix(y_test, y_pred_test)\n",
    "sns.heatmap(cm, annot= True)"
   ]
  },
  {
   "cell_type": "markdown",
   "metadata": {},
   "source": [
    "## Calculating the accuracy of the Model"
   ]
  },
  {
   "cell_type": "code",
   "execution_count": 68,
   "metadata": {},
   "outputs": [
    {
     "name": "stdout",
     "output_type": "stream",
     "text": [
      "Accuracy of classification model: 0.9410292507430001\n"
     ]
    }
   ],
   "source": [
    "from sklearn import metrics\n",
    "print(\"Accuracy of classification model:\",metrics.accuracy_score(y_test, y_pred_test))"
   ]
  },
  {
   "cell_type": "code",
   "execution_count": 69,
   "metadata": {},
   "outputs": [
    {
     "name": "stdout",
     "output_type": "stream",
     "text": [
      "F1 Score for negative tweets:  0.9684333919450724\n"
     ]
    }
   ],
   "source": [
    "print(\"F1 Score for negative tweets: \",metrics.f1_score(y_test, y_pred_test, average=None)[0])"
   ]
  },
  {
   "cell_type": "code",
   "execution_count": 70,
   "metadata": {},
   "outputs": [
    {
     "name": "stdout",
     "output_type": "stream",
     "text": [
      "F1 Score for positive tweets:  0.5527876631079477\n"
     ]
    }
   ],
   "source": [
    "print(\"F1 Score for positive tweets: \",metrics.f1_score(y_test, y_pred_test, average=None)[1])"
   ]
  },
  {
   "cell_type": "code",
   "execution_count": null,
   "metadata": {},
   "outputs": [],
   "source": []
  }
 ],
 "metadata": {
  "interpreter": {
   "hash": "b0c10d23e475658f3ca432fa96dde25e3be1aa340c5fb32a4c4d81d35e661bf1"
  },
  "kernelspec": {
   "display_name": "Python 3.7.9 64-bit",
   "name": "python3"
  },
  "language_info": {
   "codemirror_mode": {
    "name": "ipython",
    "version": 3
   },
   "file_extension": ".py",
   "mimetype": "text/x-python",
   "name": "python",
   "nbconvert_exporter": "python",
   "pygments_lexer": "ipython3",
   "version": "3.7.9"
  },
  "papermill": {
   "duration": 148.235014,
   "end_time": "2020-10-23T12:54:11.717031",
   "environment_variables": {},
   "exception": null,
   "input_path": "__notebook__.ipynb",
   "output_path": "__notebook__.ipynb",
   "parameters": {},
   "start_time": "2020-10-23T12:51:43.482017",
   "version": "2.1.0"
  }
 },
 "nbformat": 4,
 "nbformat_minor": 4
}
